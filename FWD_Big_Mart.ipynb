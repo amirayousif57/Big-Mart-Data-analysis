{
 "cells": [
  {
   "cell_type": "markdown",
   "metadata": {},
   "source": [
    "<a id=\"top\"></a>\n",
    "<h1 style=\"font-size:50px; color:#3A71AE\"><center>Project: Wrangle and Analyze Data</center></h1>"
   ]
  },
  {
   "cell_type": "markdown",
   "metadata": {},
   "source": [
    "<h1 style=\"font-size:35px; color:#3A71AE\">Table of Content:</h1>\n",
    "\n",
    "1. [**Introduction**](#id_1)\n",
    "2. [**Notebook** Structure](#id_2)\n",
    "3. [**Gathering**](#id_3)\n",
    "4. [**Assessing**](#id_4)\n",
    "5. [**Cleaning**](#id_5)\n",
    "6. [**Data Storing**](#id_6)\n",
    "7. [**Analyzing and Visualizing**](#id_7)\n",
    "8. [**Reporting**](#id_8)"
   ]
  },
  {
   "cell_type": "markdown",
   "metadata": {},
   "source": [
    "<a id=\"id_1\"></a>\n",
    "<h1 style=\"font-size:30px; color:#3A71AE\">Introduction</h1>\n",
    "\n",
    "[**Data wrangling**](https://en.wikipedia.org/wiki/Data_wrangling) or sometimes referred to as data munging, is the process of transforming and mapping data from one **raw** data form into another format with the intent of making it more appropriate and valuable for a variety of downstream purposes such as analytics.\n",
    "\n",
    "Before anything, let's find out:\n",
    "- [**The Dataset**](#id_1_1)\n",
    "- [**Variables Description**](#id_1_2)\n",
    "- [**Notebook Outline**](#id_1_4)\n",
    "- [**Our Goal**](#id_1_4)\n",
    "\n",
    "\n",
    "[Back to Top](#top)"
   ]
  },
  {
   "cell_type": "markdown",
   "metadata": {},
   "source": [
    "<a id=\"id_1_1\"></a>\n",
    "## [The Dataset](#id_1_1)\n",
    "**The dataset** we will be wrangling (and analyzing and visualizing) is the a data set from Big Mart Sales Prediction via [DataHack](https://datahack.analyticsvidhya.com/contest/practice-problem-big-mart-sales-iii/#ProblemStatement).\n",
    "\n",
    "[Back to Introduction](#id_1)"
   ]
  },
  {
   "cell_type": "markdown",
   "metadata": {},
   "source": [
    "<a id=\"id_1_2\"></a>\n",
    "## [Variables Description](#id_1_2)\n",
    "\n",
    "<img src=\"var_desc.png\" width='900'>\n",
    "\n",
    "[Back to Introduction](#id_1)"
   ]
  },
  {
   "cell_type": "markdown",
   "metadata": {},
   "source": [
    "<a id=\"id_1_3\"></a>\n",
    "## [Notebook Outline](#id_1_4)\n",
    "In this **Notebook** we will perform all of the processes below for [our Dataset](#id_1_1):\n",
    "- [ ] Gathering\n",
    "- [ ] Assessing\n",
    "- [ ] Cleaning\n",
    "- [ ] Storing\n",
    "- [ ] Analyzing\n",
    "- [ ] Visualizing\n",
    "- [ ] Reporting<br><br>\n",
    "\n",
    "[Back to Introduction](#id_1)"
   ]
  },
  {
   "cell_type": "markdown",
   "metadata": {},
   "source": [
    "<a id=\"id_1_4\"></a>\n",
    "## [Our Goal](#id_1_4)\n",
    "Performing all Data Wrangling process steps and build some prediction models if needed.\n",
    "\n",
    "[Back to Introduction](#id_1)"
   ]
  },
  {
   "cell_type": "markdown",
   "metadata": {},
   "source": [
    "<a id=\"id_2\"></a>\n",
    "<h1 style=\"font-size:30px; color:#3A71AE\">Notebook Structure</h1>\n",
    "\n",
    "**This Notebook will be structured as follows:**<br>\n",
    "- We will start with [Data Wrangling Process](#id_3) to [Gather](#id_3_1), [Assess](#id_3_2) and [Clean](#id_3_3) Big Mart Sales.\n",
    "- After wrangling our data, we will sorting it for an future purposes.\n",
    "- Then the Analyzing and Visualizing will come.\n",
    "- Finally, we will report our efforts.\n",
    "\n",
    "[Back to Top](#top)"
   ]
  },
  {
   "cell_type": "markdown",
   "metadata": {},
   "source": [
    "<a id=\"id_3\"></a>\n",
    "<h1 style=\"font-size:30px; color:#3A71AE\">Gathering Data</h1>\n",
    "\n",
    "Data wrangling consists of three steps: [**Gathering Data**](#id_3), [**Assessing Data**](#id_4), [**Cleaning Data**](#id_5)\n",
    "\n",
    "[Gathering data](https://ori.hhs.gov/education/products/n_illinois_u/datamanagement/dctopic.html) is the first step in data wrangling. It is the process of collecting and measuring information on variables of interest, in an established systematic fashion that enables one to answer stated research questions, test hypotheses, and evaluate outcomes.\n",
    "\n",
    "## Gathering data can be done in two ways:\n",
    "- **Manually**, by simply click a button and download the file.\n",
    "- **Programmatically**, through [web scraping](https://en.wikipedia.org/wiki/Web_scraping), [requesting URLs](https://requests.readthedocs.io/en/master/) or [APIs](https://www.mulesoft.com/resources/api/what-is-an-api).\n",
    "\n",
    "For this project data are ready and available to be downloaded. So, no further effort need for this step.\n",
    "\n",
    "[Back to Top](#top)"
   ]
  },
  {
   "cell_type": "code",
   "execution_count": 140,
   "metadata": {},
   "outputs": [
    {
     "name": "stdout",
     "output_type": "stream",
     "text": [
      "(8523, 12)\n"
     ]
    },
    {
     "data": {
      "text/html": [
       "<div>\n",
       "<style scoped>\n",
       "    .dataframe tbody tr th:only-of-type {\n",
       "        vertical-align: middle;\n",
       "    }\n",
       "\n",
       "    .dataframe tbody tr th {\n",
       "        vertical-align: top;\n",
       "    }\n",
       "\n",
       "    .dataframe thead th {\n",
       "        text-align: right;\n",
       "    }\n",
       "</style>\n",
       "<table border=\"1\" class=\"dataframe\">\n",
       "  <thead>\n",
       "    <tr style=\"text-align: right;\">\n",
       "      <th></th>\n",
       "      <th>Item_Identifier</th>\n",
       "      <th>Item_Weight</th>\n",
       "      <th>Item_Fat_Content</th>\n",
       "      <th>Item_Visibility</th>\n",
       "      <th>Item_Type</th>\n",
       "      <th>Item_MRP</th>\n",
       "      <th>Outlet_Identifier</th>\n",
       "      <th>Outlet_Establishment_Year</th>\n",
       "      <th>Outlet_Size</th>\n",
       "      <th>Outlet_Location_Type</th>\n",
       "      <th>Outlet_Type</th>\n",
       "      <th>Item_Outlet_Sales</th>\n",
       "    </tr>\n",
       "  </thead>\n",
       "  <tbody>\n",
       "    <tr>\n",
       "      <th>0</th>\n",
       "      <td>FDA15</td>\n",
       "      <td>9.30</td>\n",
       "      <td>Low Fat</td>\n",
       "      <td>0.016047</td>\n",
       "      <td>Dairy</td>\n",
       "      <td>249.8092</td>\n",
       "      <td>OUT049</td>\n",
       "      <td>1999</td>\n",
       "      <td>Medium</td>\n",
       "      <td>Tier 1</td>\n",
       "      <td>Supermarket Type1</td>\n",
       "      <td>3735.1380</td>\n",
       "    </tr>\n",
       "    <tr>\n",
       "      <th>1</th>\n",
       "      <td>DRC01</td>\n",
       "      <td>5.92</td>\n",
       "      <td>Regular</td>\n",
       "      <td>0.019278</td>\n",
       "      <td>Soft Drinks</td>\n",
       "      <td>48.2692</td>\n",
       "      <td>OUT018</td>\n",
       "      <td>2009</td>\n",
       "      <td>Medium</td>\n",
       "      <td>Tier 3</td>\n",
       "      <td>Supermarket Type2</td>\n",
       "      <td>443.4228</td>\n",
       "    </tr>\n",
       "    <tr>\n",
       "      <th>2</th>\n",
       "      <td>FDN15</td>\n",
       "      <td>17.50</td>\n",
       "      <td>Low Fat</td>\n",
       "      <td>0.016760</td>\n",
       "      <td>Meat</td>\n",
       "      <td>141.6180</td>\n",
       "      <td>OUT049</td>\n",
       "      <td>1999</td>\n",
       "      <td>Medium</td>\n",
       "      <td>Tier 1</td>\n",
       "      <td>Supermarket Type1</td>\n",
       "      <td>2097.2700</td>\n",
       "    </tr>\n",
       "    <tr>\n",
       "      <th>3</th>\n",
       "      <td>FDX07</td>\n",
       "      <td>19.20</td>\n",
       "      <td>Regular</td>\n",
       "      <td>0.000000</td>\n",
       "      <td>Fruits and Vegetables</td>\n",
       "      <td>182.0950</td>\n",
       "      <td>OUT010</td>\n",
       "      <td>1998</td>\n",
       "      <td>NaN</td>\n",
       "      <td>Tier 3</td>\n",
       "      <td>Grocery Store</td>\n",
       "      <td>732.3800</td>\n",
       "    </tr>\n",
       "    <tr>\n",
       "      <th>4</th>\n",
       "      <td>NCD19</td>\n",
       "      <td>8.93</td>\n",
       "      <td>Low Fat</td>\n",
       "      <td>0.000000</td>\n",
       "      <td>Household</td>\n",
       "      <td>53.8614</td>\n",
       "      <td>OUT013</td>\n",
       "      <td>1987</td>\n",
       "      <td>High</td>\n",
       "      <td>Tier 3</td>\n",
       "      <td>Supermarket Type1</td>\n",
       "      <td>994.7052</td>\n",
       "    </tr>\n",
       "  </tbody>\n",
       "</table>\n",
       "</div>"
      ],
      "text/plain": [
       "  Item_Identifier  Item_Weight Item_Fat_Content  Item_Visibility  \\\n",
       "0           FDA15         9.30          Low Fat         0.016047   \n",
       "1           DRC01         5.92          Regular         0.019278   \n",
       "2           FDN15        17.50          Low Fat         0.016760   \n",
       "3           FDX07        19.20          Regular         0.000000   \n",
       "4           NCD19         8.93          Low Fat         0.000000   \n",
       "\n",
       "               Item_Type  Item_MRP Outlet_Identifier  \\\n",
       "0                  Dairy  249.8092            OUT049   \n",
       "1            Soft Drinks   48.2692            OUT018   \n",
       "2                   Meat  141.6180            OUT049   \n",
       "3  Fruits and Vegetables  182.0950            OUT010   \n",
       "4              Household   53.8614            OUT013   \n",
       "\n",
       "   Outlet_Establishment_Year Outlet_Size Outlet_Location_Type  \\\n",
       "0                       1999      Medium               Tier 1   \n",
       "1                       2009      Medium               Tier 3   \n",
       "2                       1999      Medium               Tier 1   \n",
       "3                       1998         NaN               Tier 3   \n",
       "4                       1987        High               Tier 3   \n",
       "\n",
       "         Outlet_Type  Item_Outlet_Sales  \n",
       "0  Supermarket Type1          3735.1380  \n",
       "1  Supermarket Type2           443.4228  \n",
       "2  Supermarket Type1          2097.2700  \n",
       "3      Grocery Store           732.3800  \n",
       "4  Supermarket Type1           994.7052  "
      ]
     },
     "execution_count": 140,
     "metadata": {},
     "output_type": "execute_result"
    }
   ],
   "source": [
    "# importing necessary libraries\n",
    "import pandas as pd\n",
    "import seaborn as sb\n",
    "import matplotlib.pyplot as plt\n",
    "import numpy as np\n",
    "\n",
    "# Setting the grid style\n",
    "sb.set(style=\"darkgrid\")\n",
    "\n",
    "plt.rcParams['figure.dpi']= 100\n",
    "plt.rcParams[\"figure.figsize\"] = [10, 4]\n",
    "\n",
    "# importing needed data\n",
    "df = pd.read_csv('train.csv')\n",
    "print(df.shape)\n",
    "df.head()"
   ]
  },
  {
   "cell_type": "markdown",
   "metadata": {},
   "source": [
    "<a id=\"id_3_1\"></a>\n",
    "> ### [So Far, So Good](#id_3_1)\n",
    ">Now we have `gathered` **manually** all the data we needed to reach [Our Goal](#id_1_4). So, let's proceed to [Assessing Data](#id_3_2) phase.\n",
    ">- [x] Gathering\n",
    ">- [ ] Assessing\n",
    ">- [ ] Cleaning\n",
    ">- [ ] Storing\n",
    ">- [ ] Analyzing\n",
    ">- [ ] Visualizing\n",
    ">- [ ] Reporting\n",
    "\n",
    "[Back to Gathering Data](#id_3)"
   ]
  },
  {
   "cell_type": "markdown",
   "metadata": {},
   "source": [
    "<a id=\"id_4\"></a>\n",
    "<h1 style=\"font-size:30px; color:#3A71AE\">Assessing Data</h1>\n",
    "\n",
    "Then let's start Assessing our data. We are going to inspect our dataset for two things, [**Data Quality Issues**](#id_4_3_1) (i.e. content issues) and [**Lack of Tidiness**](#id_4_3_2) (i.e. structural issues), through two steps: **detecting** and **documentation**, by using two types of assessments:\n",
    "1. [**Visual Assessment**](#id_4_1)\n",
    "2. [**Programmatic Assessment**](#id_4_2)\n",
    "3. [**Assessment Docummentions**](#id_4_3)\n",
    "\n",
    "[Back to Top](#top)"
   ]
  },
  {
   "cell_type": "markdown",
   "metadata": {},
   "source": [
    "<a id=\"id_4_1\"></a>\n",
    "# [Visual Assessment](#id_4_1)\n",
    "\n",
    "Let's `detect` some quality or tideness issues in our dataset visually. Then `document` it in [**Assessment Docummentions**](id_4_3)\n",
    " \n",
    "[Back to Assessing Data](#id_4)"
   ]
  },
  {
   "cell_type": "code",
   "execution_count": 141,
   "metadata": {},
   "outputs": [
    {
     "data": {
      "text/html": [
       "<div>\n",
       "<style scoped>\n",
       "    .dataframe tbody tr th:only-of-type {\n",
       "        vertical-align: middle;\n",
       "    }\n",
       "\n",
       "    .dataframe tbody tr th {\n",
       "        vertical-align: top;\n",
       "    }\n",
       "\n",
       "    .dataframe thead th {\n",
       "        text-align: right;\n",
       "    }\n",
       "</style>\n",
       "<table border=\"1\" class=\"dataframe\">\n",
       "  <thead>\n",
       "    <tr style=\"text-align: right;\">\n",
       "      <th></th>\n",
       "      <th>Item_Identifier</th>\n",
       "      <th>Item_Weight</th>\n",
       "      <th>Item_Fat_Content</th>\n",
       "      <th>Item_Visibility</th>\n",
       "      <th>Item_Type</th>\n",
       "      <th>Item_MRP</th>\n",
       "      <th>Outlet_Identifier</th>\n",
       "      <th>Outlet_Establishment_Year</th>\n",
       "      <th>Outlet_Size</th>\n",
       "      <th>Outlet_Location_Type</th>\n",
       "      <th>Outlet_Type</th>\n",
       "      <th>Item_Outlet_Sales</th>\n",
       "    </tr>\n",
       "  </thead>\n",
       "  <tbody>\n",
       "    <tr>\n",
       "      <th>0</th>\n",
       "      <td>FDA15</td>\n",
       "      <td>9.300</td>\n",
       "      <td>Low Fat</td>\n",
       "      <td>0.016047</td>\n",
       "      <td>Dairy</td>\n",
       "      <td>249.8092</td>\n",
       "      <td>OUT049</td>\n",
       "      <td>1999</td>\n",
       "      <td>Medium</td>\n",
       "      <td>Tier 1</td>\n",
       "      <td>Supermarket Type1</td>\n",
       "      <td>3735.1380</td>\n",
       "    </tr>\n",
       "    <tr>\n",
       "      <th>1</th>\n",
       "      <td>DRC01</td>\n",
       "      <td>5.920</td>\n",
       "      <td>Regular</td>\n",
       "      <td>0.019278</td>\n",
       "      <td>Soft Drinks</td>\n",
       "      <td>48.2692</td>\n",
       "      <td>OUT018</td>\n",
       "      <td>2009</td>\n",
       "      <td>Medium</td>\n",
       "      <td>Tier 3</td>\n",
       "      <td>Supermarket Type2</td>\n",
       "      <td>443.4228</td>\n",
       "    </tr>\n",
       "    <tr>\n",
       "      <th>2</th>\n",
       "      <td>FDN15</td>\n",
       "      <td>17.500</td>\n",
       "      <td>Low Fat</td>\n",
       "      <td>0.016760</td>\n",
       "      <td>Meat</td>\n",
       "      <td>141.6180</td>\n",
       "      <td>OUT049</td>\n",
       "      <td>1999</td>\n",
       "      <td>Medium</td>\n",
       "      <td>Tier 1</td>\n",
       "      <td>Supermarket Type1</td>\n",
       "      <td>2097.2700</td>\n",
       "    </tr>\n",
       "    <tr>\n",
       "      <th>3</th>\n",
       "      <td>FDX07</td>\n",
       "      <td>19.200</td>\n",
       "      <td>Regular</td>\n",
       "      <td>0.000000</td>\n",
       "      <td>Fruits and Vegetables</td>\n",
       "      <td>182.0950</td>\n",
       "      <td>OUT010</td>\n",
       "      <td>1998</td>\n",
       "      <td>NaN</td>\n",
       "      <td>Tier 3</td>\n",
       "      <td>Grocery Store</td>\n",
       "      <td>732.3800</td>\n",
       "    </tr>\n",
       "    <tr>\n",
       "      <th>4</th>\n",
       "      <td>NCD19</td>\n",
       "      <td>8.930</td>\n",
       "      <td>Low Fat</td>\n",
       "      <td>0.000000</td>\n",
       "      <td>Household</td>\n",
       "      <td>53.8614</td>\n",
       "      <td>OUT013</td>\n",
       "      <td>1987</td>\n",
       "      <td>High</td>\n",
       "      <td>Tier 3</td>\n",
       "      <td>Supermarket Type1</td>\n",
       "      <td>994.7052</td>\n",
       "    </tr>\n",
       "    <tr>\n",
       "      <th>...</th>\n",
       "      <td>...</td>\n",
       "      <td>...</td>\n",
       "      <td>...</td>\n",
       "      <td>...</td>\n",
       "      <td>...</td>\n",
       "      <td>...</td>\n",
       "      <td>...</td>\n",
       "      <td>...</td>\n",
       "      <td>...</td>\n",
       "      <td>...</td>\n",
       "      <td>...</td>\n",
       "      <td>...</td>\n",
       "    </tr>\n",
       "    <tr>\n",
       "      <th>8518</th>\n",
       "      <td>FDF22</td>\n",
       "      <td>6.865</td>\n",
       "      <td>Low Fat</td>\n",
       "      <td>0.056783</td>\n",
       "      <td>Snack Foods</td>\n",
       "      <td>214.5218</td>\n",
       "      <td>OUT013</td>\n",
       "      <td>1987</td>\n",
       "      <td>High</td>\n",
       "      <td>Tier 3</td>\n",
       "      <td>Supermarket Type1</td>\n",
       "      <td>2778.3834</td>\n",
       "    </tr>\n",
       "    <tr>\n",
       "      <th>8519</th>\n",
       "      <td>FDS36</td>\n",
       "      <td>8.380</td>\n",
       "      <td>Regular</td>\n",
       "      <td>0.046982</td>\n",
       "      <td>Baking Goods</td>\n",
       "      <td>108.1570</td>\n",
       "      <td>OUT045</td>\n",
       "      <td>2002</td>\n",
       "      <td>NaN</td>\n",
       "      <td>Tier 2</td>\n",
       "      <td>Supermarket Type1</td>\n",
       "      <td>549.2850</td>\n",
       "    </tr>\n",
       "    <tr>\n",
       "      <th>8520</th>\n",
       "      <td>NCJ29</td>\n",
       "      <td>10.600</td>\n",
       "      <td>Low Fat</td>\n",
       "      <td>0.035186</td>\n",
       "      <td>Health and Hygiene</td>\n",
       "      <td>85.1224</td>\n",
       "      <td>OUT035</td>\n",
       "      <td>2004</td>\n",
       "      <td>Small</td>\n",
       "      <td>Tier 2</td>\n",
       "      <td>Supermarket Type1</td>\n",
       "      <td>1193.1136</td>\n",
       "    </tr>\n",
       "    <tr>\n",
       "      <th>8521</th>\n",
       "      <td>FDN46</td>\n",
       "      <td>7.210</td>\n",
       "      <td>Regular</td>\n",
       "      <td>0.145221</td>\n",
       "      <td>Snack Foods</td>\n",
       "      <td>103.1332</td>\n",
       "      <td>OUT018</td>\n",
       "      <td>2009</td>\n",
       "      <td>Medium</td>\n",
       "      <td>Tier 3</td>\n",
       "      <td>Supermarket Type2</td>\n",
       "      <td>1845.5976</td>\n",
       "    </tr>\n",
       "    <tr>\n",
       "      <th>8522</th>\n",
       "      <td>DRG01</td>\n",
       "      <td>14.800</td>\n",
       "      <td>Low Fat</td>\n",
       "      <td>0.044878</td>\n",
       "      <td>Soft Drinks</td>\n",
       "      <td>75.4670</td>\n",
       "      <td>OUT046</td>\n",
       "      <td>1997</td>\n",
       "      <td>Small</td>\n",
       "      <td>Tier 1</td>\n",
       "      <td>Supermarket Type1</td>\n",
       "      <td>765.6700</td>\n",
       "    </tr>\n",
       "  </tbody>\n",
       "</table>\n",
       "<p>8523 rows × 12 columns</p>\n",
       "</div>"
      ],
      "text/plain": [
       "     Item_Identifier  Item_Weight Item_Fat_Content  Item_Visibility  \\\n",
       "0              FDA15        9.300          Low Fat         0.016047   \n",
       "1              DRC01        5.920          Regular         0.019278   \n",
       "2              FDN15       17.500          Low Fat         0.016760   \n",
       "3              FDX07       19.200          Regular         0.000000   \n",
       "4              NCD19        8.930          Low Fat         0.000000   \n",
       "...              ...          ...              ...              ...   \n",
       "8518           FDF22        6.865          Low Fat         0.056783   \n",
       "8519           FDS36        8.380          Regular         0.046982   \n",
       "8520           NCJ29       10.600          Low Fat         0.035186   \n",
       "8521           FDN46        7.210          Regular         0.145221   \n",
       "8522           DRG01       14.800          Low Fat         0.044878   \n",
       "\n",
       "                  Item_Type  Item_MRP Outlet_Identifier  \\\n",
       "0                     Dairy  249.8092            OUT049   \n",
       "1               Soft Drinks   48.2692            OUT018   \n",
       "2                      Meat  141.6180            OUT049   \n",
       "3     Fruits and Vegetables  182.0950            OUT010   \n",
       "4                 Household   53.8614            OUT013   \n",
       "...                     ...       ...               ...   \n",
       "8518            Snack Foods  214.5218            OUT013   \n",
       "8519           Baking Goods  108.1570            OUT045   \n",
       "8520     Health and Hygiene   85.1224            OUT035   \n",
       "8521            Snack Foods  103.1332            OUT018   \n",
       "8522            Soft Drinks   75.4670            OUT046   \n",
       "\n",
       "      Outlet_Establishment_Year Outlet_Size Outlet_Location_Type  \\\n",
       "0                          1999      Medium               Tier 1   \n",
       "1                          2009      Medium               Tier 3   \n",
       "2                          1999      Medium               Tier 1   \n",
       "3                          1998         NaN               Tier 3   \n",
       "4                          1987        High               Tier 3   \n",
       "...                         ...         ...                  ...   \n",
       "8518                       1987        High               Tier 3   \n",
       "8519                       2002         NaN               Tier 2   \n",
       "8520                       2004       Small               Tier 2   \n",
       "8521                       2009      Medium               Tier 3   \n",
       "8522                       1997       Small               Tier 1   \n",
       "\n",
       "            Outlet_Type  Item_Outlet_Sales  \n",
       "0     Supermarket Type1          3735.1380  \n",
       "1     Supermarket Type2           443.4228  \n",
       "2     Supermarket Type1          2097.2700  \n",
       "3         Grocery Store           732.3800  \n",
       "4     Supermarket Type1           994.7052  \n",
       "...                 ...                ...  \n",
       "8518  Supermarket Type1          2778.3834  \n",
       "8519  Supermarket Type1           549.2850  \n",
       "8520  Supermarket Type1          1193.1136  \n",
       "8521  Supermarket Type2          1845.5976  \n",
       "8522  Supermarket Type1           765.6700  \n",
       "\n",
       "[8523 rows x 12 columns]"
      ]
     },
     "execution_count": 141,
     "metadata": {},
     "output_type": "execute_result"
    }
   ],
   "source": [
    "df"
   ]
  },
  {
   "cell_type": "markdown",
   "metadata": {},
   "source": [
    "> **Note:** Columns names all in uppercase, with prefixes of `Item` or `Outlet`."
   ]
  },
  {
   "cell_type": "markdown",
   "metadata": {},
   "source": [
    "<a id=\"id_4_2\"></a>\n",
    "# [Programmatic Assessment](#id_4_2)\n",
    "**Programmatic assessment** is simply means using code to do anything other than looking to the dataset in its **`entirety`**. It tends to be more efficient than visual assessment. \n",
    "\n",
    "This types of assessments are handy for gauging data’s structure and also for quickly spotting things that we’ll need to clean.\n",
    "\n",
    "**Note:** As We did in [Visually Assessment](#id_4_3_2), we'll start with `detecting` data issues, then, `documenting` these issues in [Assessment Docummentions](#id_4_3).\n",
    "\n",
    "We are going to use [Pandas API](https://pandas.pydata.org/docs/reference/index.html) functions and methods in order to programmatically assess the dataset like:\n",
    "- [DataFrame.sample](https://pandas.pydata.org/docs/reference/api/pandas.DataFrame.sample.html?highlight=sample#pandas.DataFrame.sample)\n",
    "- [Series.value_counts](https://pandas.pydata.org/docs/reference/api/pandas.Series.value_counts.html?highlight=value_counts#pandas.Series.value_counts)\n",
    "- [DataFrame.info](https://pandas.pydata.org/docs/reference/api/pandas.DataFrame.info.html?highlight=info#pandas.DataFrame.info)\n",
    "- [DataFrame.dtypes](https://pandas.pydata.org/docs/reference/api/pandas.DataFrame.dtypes.html?highlight=dtypes#pandas.DataFrame.dtypes)\n",
    "- [DataFrame.describe](https://pandas.pydata.org/docs/reference/api/pandas.DataFrame.describe.html?highlight=describe#pandas.DataFrame.describe)\n",
    "- [pandas.Series.isnull](https://pandas.pydata.org/docs/reference/api/pandas.Series.isnull.html?highlight=isnull#pandas.Series.isnull)\n",
    "- [Series.notnull](https://pandas.pydata.org/docs/reference/api/pandas.Series.notnull.html?highlight=notnull#pandas.Series.notnull)\n",
    "\n",
    "[Back to Assessing Data](#id_4)"
   ]
  },
  {
   "cell_type": "markdown",
   "metadata": {},
   "source": [
    "## Dataset Random Sample\n",
    "\n",
    "[Back to Programmatic Assessment](#id_4_2)"
   ]
  },
  {
   "cell_type": "code",
   "execution_count": 142,
   "metadata": {
    "scrolled": true
   },
   "outputs": [
    {
     "data": {
      "text/html": [
       "<div>\n",
       "<style scoped>\n",
       "    .dataframe tbody tr th:only-of-type {\n",
       "        vertical-align: middle;\n",
       "    }\n",
       "\n",
       "    .dataframe tbody tr th {\n",
       "        vertical-align: top;\n",
       "    }\n",
       "\n",
       "    .dataframe thead th {\n",
       "        text-align: right;\n",
       "    }\n",
       "</style>\n",
       "<table border=\"1\" class=\"dataframe\">\n",
       "  <thead>\n",
       "    <tr style=\"text-align: right;\">\n",
       "      <th></th>\n",
       "      <th>Item_Identifier</th>\n",
       "      <th>Item_Weight</th>\n",
       "      <th>Item_Fat_Content</th>\n",
       "      <th>Item_Visibility</th>\n",
       "      <th>Item_Type</th>\n",
       "      <th>Item_MRP</th>\n",
       "      <th>Outlet_Identifier</th>\n",
       "      <th>Outlet_Establishment_Year</th>\n",
       "      <th>Outlet_Size</th>\n",
       "      <th>Outlet_Location_Type</th>\n",
       "      <th>Outlet_Type</th>\n",
       "      <th>Item_Outlet_Sales</th>\n",
       "    </tr>\n",
       "  </thead>\n",
       "  <tbody>\n",
       "    <tr>\n",
       "      <th>1070</th>\n",
       "      <td>NCY05</td>\n",
       "      <td>13.50</td>\n",
       "      <td>Low Fat</td>\n",
       "      <td>0.055102</td>\n",
       "      <td>Health and Hygiene</td>\n",
       "      <td>37.0874</td>\n",
       "      <td>OUT045</td>\n",
       "      <td>2002</td>\n",
       "      <td>NaN</td>\n",
       "      <td>Tier 2</td>\n",
       "      <td>Supermarket Type1</td>\n",
       "      <td>952.7598</td>\n",
       "    </tr>\n",
       "    <tr>\n",
       "      <th>6305</th>\n",
       "      <td>FDM02</td>\n",
       "      <td>12.50</td>\n",
       "      <td>Regular</td>\n",
       "      <td>0.074035</td>\n",
       "      <td>Canned</td>\n",
       "      <td>87.9198</td>\n",
       "      <td>OUT018</td>\n",
       "      <td>2009</td>\n",
       "      <td>Medium</td>\n",
       "      <td>Tier 3</td>\n",
       "      <td>Supermarket Type2</td>\n",
       "      <td>1133.8574</td>\n",
       "    </tr>\n",
       "    <tr>\n",
       "      <th>8504</th>\n",
       "      <td>NCN18</td>\n",
       "      <td>NaN</td>\n",
       "      <td>Low Fat</td>\n",
       "      <td>0.124111</td>\n",
       "      <td>Household</td>\n",
       "      <td>111.7544</td>\n",
       "      <td>OUT027</td>\n",
       "      <td>1985</td>\n",
       "      <td>Medium</td>\n",
       "      <td>Tier 3</td>\n",
       "      <td>Supermarket Type3</td>\n",
       "      <td>4138.6128</td>\n",
       "    </tr>\n",
       "    <tr>\n",
       "      <th>5562</th>\n",
       "      <td>FDM02</td>\n",
       "      <td>12.50</td>\n",
       "      <td>Regular</td>\n",
       "      <td>0.073735</td>\n",
       "      <td>Canned</td>\n",
       "      <td>87.1198</td>\n",
       "      <td>OUT046</td>\n",
       "      <td>1997</td>\n",
       "      <td>Small</td>\n",
       "      <td>Tier 1</td>\n",
       "      <td>Supermarket Type1</td>\n",
       "      <td>1657.1762</td>\n",
       "    </tr>\n",
       "    <tr>\n",
       "      <th>1410</th>\n",
       "      <td>FDL21</td>\n",
       "      <td>15.85</td>\n",
       "      <td>Regular</td>\n",
       "      <td>0.007140</td>\n",
       "      <td>Snack Foods</td>\n",
       "      <td>40.8480</td>\n",
       "      <td>OUT013</td>\n",
       "      <td>1987</td>\n",
       "      <td>High</td>\n",
       "      <td>Tier 3</td>\n",
       "      <td>Supermarket Type1</td>\n",
       "      <td>679.1160</td>\n",
       "    </tr>\n",
       "  </tbody>\n",
       "</table>\n",
       "</div>"
      ],
      "text/plain": [
       "     Item_Identifier  Item_Weight Item_Fat_Content  Item_Visibility  \\\n",
       "1070           NCY05        13.50          Low Fat         0.055102   \n",
       "6305           FDM02        12.50          Regular         0.074035   \n",
       "8504           NCN18          NaN          Low Fat         0.124111   \n",
       "5562           FDM02        12.50          Regular         0.073735   \n",
       "1410           FDL21        15.85          Regular         0.007140   \n",
       "\n",
       "               Item_Type  Item_MRP Outlet_Identifier  \\\n",
       "1070  Health and Hygiene   37.0874            OUT045   \n",
       "6305              Canned   87.9198            OUT018   \n",
       "8504           Household  111.7544            OUT027   \n",
       "5562              Canned   87.1198            OUT046   \n",
       "1410         Snack Foods   40.8480            OUT013   \n",
       "\n",
       "      Outlet_Establishment_Year Outlet_Size Outlet_Location_Type  \\\n",
       "1070                       2002         NaN               Tier 2   \n",
       "6305                       2009      Medium               Tier 3   \n",
       "8504                       1985      Medium               Tier 3   \n",
       "5562                       1997       Small               Tier 1   \n",
       "1410                       1987        High               Tier 3   \n",
       "\n",
       "            Outlet_Type  Item_Outlet_Sales  \n",
       "1070  Supermarket Type1           952.7598  \n",
       "6305  Supermarket Type2          1133.8574  \n",
       "8504  Supermarket Type3          4138.6128  \n",
       "5562  Supermarket Type1          1657.1762  \n",
       "1410  Supermarket Type1           679.1160  "
      ]
     },
     "execution_count": 142,
     "metadata": {},
     "output_type": "execute_result"
    }
   ],
   "source": [
    "np.random.seed(1)\n",
    "df.sample(5)"
   ]
  },
  {
   "cell_type": "markdown",
   "metadata": {},
   "source": [
    "> **Note:** The `NaN` value in Item_Weight variable, let's document this in [Assessment Docummentions](#id_4_3) section."
   ]
  },
  {
   "cell_type": "markdown",
   "metadata": {},
   "source": [
    "## Item Fat Content Unique Values\n",
    "\n",
    "[Back to Programmatic Assessment](#id_4_2)"
   ]
  },
  {
   "cell_type": "code",
   "execution_count": 143,
   "metadata": {
    "scrolled": false
   },
   "outputs": [
    {
     "data": {
      "text/plain": [
       "Low Fat    5089\n",
       "Regular    2889\n",
       "LF          316\n",
       "reg         117\n",
       "low fat     112\n",
       "Name: Item_Fat_Content, dtype: int64"
      ]
     },
     "execution_count": 143,
     "metadata": {},
     "output_type": "execute_result"
    }
   ],
   "source": [
    "df.Item_Fat_Content.value_counts()"
   ]
  },
  {
   "cell_type": "markdown",
   "metadata": {},
   "source": [
    "> **Note:** Inconsistent value names, let's document this in [Assessment Docummentions](#id_4_3) section."
   ]
  },
  {
   "cell_type": "markdown",
   "metadata": {},
   "source": [
    "## Item Type Unique Values\n",
    "\n",
    "[Back to Programmatic Assessment](#id_4_2)"
   ]
  },
  {
   "cell_type": "code",
   "execution_count": 144,
   "metadata": {},
   "outputs": [
    {
     "data": {
      "text/plain": [
       "Fruits and Vegetables    1232\n",
       "Snack Foods              1200\n",
       "Household                 910\n",
       "Frozen Foods              856\n",
       "Dairy                     682\n",
       "Canned                    649\n",
       "Baking Goods              648\n",
       "Health and Hygiene        520\n",
       "Soft Drinks               445\n",
       "Meat                      425\n",
       "Breads                    251\n",
       "Hard Drinks               214\n",
       "Others                    169\n",
       "Starchy Foods             148\n",
       "Breakfast                 110\n",
       "Seafood                    64\n",
       "Name: Item_Type, dtype: int64"
      ]
     },
     "execution_count": 144,
     "metadata": {},
     "output_type": "execute_result"
    }
   ],
   "source": [
    "df.Item_Type.value_counts()"
   ]
  },
  {
   "cell_type": "markdown",
   "metadata": {},
   "source": [
    "## Outlet Identifier Unique Values\n",
    "\n",
    "[Back to Programmatic Assessment](#id_4_2)"
   ]
  },
  {
   "cell_type": "code",
   "execution_count": 145,
   "metadata": {},
   "outputs": [
    {
     "data": {
      "text/plain": [
       "OUT027    935\n",
       "OUT013    932\n",
       "OUT046    930\n",
       "OUT049    930\n",
       "OUT035    930\n",
       "OUT045    929\n",
       "OUT018    928\n",
       "OUT017    926\n",
       "OUT010    555\n",
       "OUT019    528\n",
       "Name: Outlet_Identifier, dtype: int64"
      ]
     },
     "execution_count": 145,
     "metadata": {},
     "output_type": "execute_result"
    }
   ],
   "source": [
    "df.Outlet_Identifier.value_counts()"
   ]
  },
  {
   "cell_type": "markdown",
   "metadata": {},
   "source": [
    "## Outlet Size Unique Values\n",
    "\n",
    "[Back to Programmatic Assessment](#id_4_2)"
   ]
  },
  {
   "cell_type": "code",
   "execution_count": 146,
   "metadata": {},
   "outputs": [
    {
     "data": {
      "text/plain": [
       "Medium    2793\n",
       "Small     2388\n",
       "High       932\n",
       "Name: Outlet_Size, dtype: int64"
      ]
     },
     "execution_count": 146,
     "metadata": {},
     "output_type": "execute_result"
    }
   ],
   "source": [
    "df.Outlet_Size.value_counts()"
   ]
  },
  {
   "cell_type": "markdown",
   "metadata": {},
   "source": [
    "## Outlet Location Type Unique Values\n",
    "\n",
    "[Back to Programmatic Assessment](#id_4_2)"
   ]
  },
  {
   "cell_type": "code",
   "execution_count": 147,
   "metadata": {},
   "outputs": [
    {
     "data": {
      "text/plain": [
       "Tier 3    3350\n",
       "Tier 2    2785\n",
       "Tier 1    2388\n",
       "Name: Outlet_Location_Type, dtype: int64"
      ]
     },
     "execution_count": 147,
     "metadata": {},
     "output_type": "execute_result"
    }
   ],
   "source": [
    "df.Outlet_Location_Type.value_counts()"
   ]
  },
  {
   "cell_type": "markdown",
   "metadata": {},
   "source": [
    "## Outlet Type Unique Values\n",
    "\n",
    "[Back to Programmatic Assessment](#id_4_2)"
   ]
  },
  {
   "cell_type": "code",
   "execution_count": 148,
   "metadata": {
    "scrolled": true
   },
   "outputs": [
    {
     "data": {
      "text/plain": [
       "Supermarket Type1    5577\n",
       "Grocery Store        1083\n",
       "Supermarket Type3     935\n",
       "Supermarket Type2     928\n",
       "Name: Outlet_Type, dtype: int64"
      ]
     },
     "execution_count": 148,
     "metadata": {},
     "output_type": "execute_result"
    }
   ],
   "source": [
    "df.Outlet_Type.value_counts()"
   ]
  },
  {
   "cell_type": "markdown",
   "metadata": {},
   "source": [
    "> **Note:** The values need to be modified from a `aesthetic` perspective, let's document this in [Assessment Docummentions](#id_4_3) section."
   ]
  },
  {
   "cell_type": "markdown",
   "metadata": {},
   "source": [
    "## Numerical Descriptive\n",
    "\n",
    "[Back to Programmatic Assessment](#id_4_2)"
   ]
  },
  {
   "cell_type": "code",
   "execution_count": 149,
   "metadata": {
    "scrolled": false
   },
   "outputs": [
    {
     "data": {
      "text/html": [
       "<div>\n",
       "<style scoped>\n",
       "    .dataframe tbody tr th:only-of-type {\n",
       "        vertical-align: middle;\n",
       "    }\n",
       "\n",
       "    .dataframe tbody tr th {\n",
       "        vertical-align: top;\n",
       "    }\n",
       "\n",
       "    .dataframe thead th {\n",
       "        text-align: right;\n",
       "    }\n",
       "</style>\n",
       "<table border=\"1\" class=\"dataframe\">\n",
       "  <thead>\n",
       "    <tr style=\"text-align: right;\">\n",
       "      <th></th>\n",
       "      <th>Item_Weight</th>\n",
       "      <th>Item_Visibility</th>\n",
       "      <th>Item_MRP</th>\n",
       "      <th>Outlet_Establishment_Year</th>\n",
       "      <th>Item_Outlet_Sales</th>\n",
       "    </tr>\n",
       "  </thead>\n",
       "  <tbody>\n",
       "    <tr>\n",
       "      <th>count</th>\n",
       "      <td>7060.000000</td>\n",
       "      <td>8523.000000</td>\n",
       "      <td>8523.000000</td>\n",
       "      <td>8523.000000</td>\n",
       "      <td>8523.000000</td>\n",
       "    </tr>\n",
       "    <tr>\n",
       "      <th>mean</th>\n",
       "      <td>12.857645</td>\n",
       "      <td>0.066132</td>\n",
       "      <td>140.992782</td>\n",
       "      <td>1997.831867</td>\n",
       "      <td>2181.288914</td>\n",
       "    </tr>\n",
       "    <tr>\n",
       "      <th>std</th>\n",
       "      <td>4.643456</td>\n",
       "      <td>0.051598</td>\n",
       "      <td>62.275067</td>\n",
       "      <td>8.371760</td>\n",
       "      <td>1706.499616</td>\n",
       "    </tr>\n",
       "    <tr>\n",
       "      <th>min</th>\n",
       "      <td>4.555000</td>\n",
       "      <td>0.000000</td>\n",
       "      <td>31.290000</td>\n",
       "      <td>1985.000000</td>\n",
       "      <td>33.290000</td>\n",
       "    </tr>\n",
       "    <tr>\n",
       "      <th>25%</th>\n",
       "      <td>8.773750</td>\n",
       "      <td>0.026989</td>\n",
       "      <td>93.826500</td>\n",
       "      <td>1987.000000</td>\n",
       "      <td>834.247400</td>\n",
       "    </tr>\n",
       "    <tr>\n",
       "      <th>50%</th>\n",
       "      <td>12.600000</td>\n",
       "      <td>0.053931</td>\n",
       "      <td>143.012800</td>\n",
       "      <td>1999.000000</td>\n",
       "      <td>1794.331000</td>\n",
       "    </tr>\n",
       "    <tr>\n",
       "      <th>75%</th>\n",
       "      <td>16.850000</td>\n",
       "      <td>0.094585</td>\n",
       "      <td>185.643700</td>\n",
       "      <td>2004.000000</td>\n",
       "      <td>3101.296400</td>\n",
       "    </tr>\n",
       "    <tr>\n",
       "      <th>max</th>\n",
       "      <td>21.350000</td>\n",
       "      <td>0.328391</td>\n",
       "      <td>266.888400</td>\n",
       "      <td>2009.000000</td>\n",
       "      <td>13086.964800</td>\n",
       "    </tr>\n",
       "  </tbody>\n",
       "</table>\n",
       "</div>"
      ],
      "text/plain": [
       "       Item_Weight  Item_Visibility     Item_MRP  Outlet_Establishment_Year  \\\n",
       "count  7060.000000      8523.000000  8523.000000                8523.000000   \n",
       "mean     12.857645         0.066132   140.992782                1997.831867   \n",
       "std       4.643456         0.051598    62.275067                   8.371760   \n",
       "min       4.555000         0.000000    31.290000                1985.000000   \n",
       "25%       8.773750         0.026989    93.826500                1987.000000   \n",
       "50%      12.600000         0.053931   143.012800                1999.000000   \n",
       "75%      16.850000         0.094585   185.643700                2004.000000   \n",
       "max      21.350000         0.328391   266.888400                2009.000000   \n",
       "\n",
       "       Item_Outlet_Sales  \n",
       "count        8523.000000  \n",
       "mean         2181.288914  \n",
       "std          1706.499616  \n",
       "min            33.290000  \n",
       "25%           834.247400  \n",
       "50%          1794.331000  \n",
       "75%          3101.296400  \n",
       "max         13086.964800  "
      ]
     },
     "execution_count": 149,
     "metadata": {},
     "output_type": "execute_result"
    }
   ],
   "source": [
    "df.describe()"
   ]
  },
  {
   "cell_type": "markdown",
   "metadata": {},
   "source": [
    "> **Note:** Item_Visibility `max value`, let's document this in [Assessment Docummentions](#id_4_3) section."
   ]
  },
  {
   "cell_type": "markdown",
   "metadata": {},
   "source": [
    "## Dataset Overall Information\n",
    "\n",
    "[Back to Programmatic Assessment](#id_4_2)"
   ]
  },
  {
   "cell_type": "code",
   "execution_count": 150,
   "metadata": {
    "scrolled": true
   },
   "outputs": [
    {
     "name": "stdout",
     "output_type": "stream",
     "text": [
      "<class 'pandas.core.frame.DataFrame'>\n",
      "RangeIndex: 8523 entries, 0 to 8522\n",
      "Data columns (total 12 columns):\n",
      " #   Column                     Non-Null Count  Dtype  \n",
      "---  ------                     --------------  -----  \n",
      " 0   Item_Identifier            8523 non-null   object \n",
      " 1   Item_Weight                7060 non-null   float64\n",
      " 2   Item_Fat_Content           8523 non-null   object \n",
      " 3   Item_Visibility            8523 non-null   float64\n",
      " 4   Item_Type                  8523 non-null   object \n",
      " 5   Item_MRP                   8523 non-null   float64\n",
      " 6   Outlet_Identifier          8523 non-null   object \n",
      " 7   Outlet_Establishment_Year  8523 non-null   int64  \n",
      " 8   Outlet_Size                6113 non-null   object \n",
      " 9   Outlet_Location_Type       8523 non-null   object \n",
      " 10  Outlet_Type                8523 non-null   object \n",
      " 11  Item_Outlet_Sales          8523 non-null   float64\n",
      "dtypes: float64(4), int64(1), object(7)\n",
      "memory usage: 799.2+ KB\n"
     ]
    }
   ],
   "source": [
    "df.info()"
   ]
  },
  {
   "cell_type": "markdown",
   "metadata": {},
   "source": [
    "> **Note:** `NaN` values in Item_Weight and Outlet_Size, let's document this in [Assessment Docummentions](#id_4_3) section."
   ]
  },
  {
   "cell_type": "markdown",
   "metadata": {},
   "source": [
    "## Item Weight Missing Values\n",
    "\n",
    "[Back to Programmatic Assessment](#id_4_2)"
   ]
  },
  {
   "cell_type": "code",
   "execution_count": 151,
   "metadata": {
    "scrolled": true
   },
   "outputs": [
    {
     "data": {
      "text/html": [
       "<div>\n",
       "<style scoped>\n",
       "    .dataframe tbody tr th:only-of-type {\n",
       "        vertical-align: middle;\n",
       "    }\n",
       "\n",
       "    .dataframe tbody tr th {\n",
       "        vertical-align: top;\n",
       "    }\n",
       "\n",
       "    .dataframe thead th {\n",
       "        text-align: right;\n",
       "    }\n",
       "</style>\n",
       "<table border=\"1\" class=\"dataframe\">\n",
       "  <thead>\n",
       "    <tr style=\"text-align: right;\">\n",
       "      <th></th>\n",
       "      <th>Item_Identifier</th>\n",
       "      <th>Item_Weight</th>\n",
       "      <th>Item_Fat_Content</th>\n",
       "      <th>Item_Visibility</th>\n",
       "      <th>Item_Type</th>\n",
       "      <th>Item_MRP</th>\n",
       "      <th>Outlet_Identifier</th>\n",
       "      <th>Outlet_Establishment_Year</th>\n",
       "      <th>Outlet_Size</th>\n",
       "      <th>Outlet_Location_Type</th>\n",
       "      <th>Outlet_Type</th>\n",
       "      <th>Item_Outlet_Sales</th>\n",
       "    </tr>\n",
       "  </thead>\n",
       "  <tbody>\n",
       "    <tr>\n",
       "      <th>7966</th>\n",
       "      <td>NCE19</td>\n",
       "      <td>NaN</td>\n",
       "      <td>Low Fat</td>\n",
       "      <td>0.092564</td>\n",
       "      <td>Household</td>\n",
       "      <td>53.4956</td>\n",
       "      <td>OUT027</td>\n",
       "      <td>1985</td>\n",
       "      <td>Medium</td>\n",
       "      <td>Tier 3</td>\n",
       "      <td>Supermarket Type3</td>\n",
       "      <td>2129.2284</td>\n",
       "    </tr>\n",
       "    <tr>\n",
       "      <th>7996</th>\n",
       "      <td>NCH55</td>\n",
       "      <td>NaN</td>\n",
       "      <td>Low Fat</td>\n",
       "      <td>0.060707</td>\n",
       "      <td>Household</td>\n",
       "      <td>127.5020</td>\n",
       "      <td>OUT019</td>\n",
       "      <td>1985</td>\n",
       "      <td>Small</td>\n",
       "      <td>Tier 1</td>\n",
       "      <td>Grocery Store</td>\n",
       "      <td>379.5060</td>\n",
       "    </tr>\n",
       "    <tr>\n",
       "      <th>3484</th>\n",
       "      <td>NCF31</td>\n",
       "      <td>NaN</td>\n",
       "      <td>Low Fat</td>\n",
       "      <td>0.090778</td>\n",
       "      <td>Household</td>\n",
       "      <td>153.1024</td>\n",
       "      <td>OUT019</td>\n",
       "      <td>1985</td>\n",
       "      <td>Small</td>\n",
       "      <td>Tier 1</td>\n",
       "      <td>Grocery Store</td>\n",
       "      <td>303.6048</td>\n",
       "    </tr>\n",
       "    <tr>\n",
       "      <th>2589</th>\n",
       "      <td>FDG60</td>\n",
       "      <td>NaN</td>\n",
       "      <td>Low Fat</td>\n",
       "      <td>0.060406</td>\n",
       "      <td>Baking Goods</td>\n",
       "      <td>234.5616</td>\n",
       "      <td>OUT027</td>\n",
       "      <td>1985</td>\n",
       "      <td>Medium</td>\n",
       "      <td>Tier 3</td>\n",
       "      <td>Supermarket Type3</td>\n",
       "      <td>6796.4864</td>\n",
       "    </tr>\n",
       "    <tr>\n",
       "      <th>7837</th>\n",
       "      <td>FDC16</td>\n",
       "      <td>NaN</td>\n",
       "      <td>Regular</td>\n",
       "      <td>0.020470</td>\n",
       "      <td>Dairy</td>\n",
       "      <td>88.2540</td>\n",
       "      <td>OUT027</td>\n",
       "      <td>1985</td>\n",
       "      <td>Medium</td>\n",
       "      <td>Tier 3</td>\n",
       "      <td>Supermarket Type3</td>\n",
       "      <td>2510.0660</td>\n",
       "    </tr>\n",
       "    <tr>\n",
       "      <th>8373</th>\n",
       "      <td>FDX44</td>\n",
       "      <td>NaN</td>\n",
       "      <td>Low Fat</td>\n",
       "      <td>0.042758</td>\n",
       "      <td>Fruits and Vegetables</td>\n",
       "      <td>88.4172</td>\n",
       "      <td>OUT027</td>\n",
       "      <td>1985</td>\n",
       "      <td>Medium</td>\n",
       "      <td>Tier 3</td>\n",
       "      <td>Supermarket Type3</td>\n",
       "      <td>2051.9956</td>\n",
       "    </tr>\n",
       "    <tr>\n",
       "      <th>6184</th>\n",
       "      <td>FDZ19</td>\n",
       "      <td>NaN</td>\n",
       "      <td>Low Fat</td>\n",
       "      <td>0.093002</td>\n",
       "      <td>Fruits and Vegetables</td>\n",
       "      <td>177.7712</td>\n",
       "      <td>OUT027</td>\n",
       "      <td>1985</td>\n",
       "      <td>Medium</td>\n",
       "      <td>Tier 3</td>\n",
       "      <td>Supermarket Type3</td>\n",
       "      <td>4921.5936</td>\n",
       "    </tr>\n",
       "    <tr>\n",
       "      <th>7620</th>\n",
       "      <td>DRI51</td>\n",
       "      <td>NaN</td>\n",
       "      <td>Low Fat</td>\n",
       "      <td>0.042037</td>\n",
       "      <td>Dairy</td>\n",
       "      <td>172.6764</td>\n",
       "      <td>OUT027</td>\n",
       "      <td>1985</td>\n",
       "      <td>Medium</td>\n",
       "      <td>Tier 3</td>\n",
       "      <td>Supermarket Type3</td>\n",
       "      <td>6183.9504</td>\n",
       "    </tr>\n",
       "    <tr>\n",
       "      <th>208</th>\n",
       "      <td>FDS45</td>\n",
       "      <td>NaN</td>\n",
       "      <td>Regular</td>\n",
       "      <td>0.051644</td>\n",
       "      <td>Snack Foods</td>\n",
       "      <td>107.3622</td>\n",
       "      <td>OUT019</td>\n",
       "      <td>1985</td>\n",
       "      <td>Small</td>\n",
       "      <td>Tier 1</td>\n",
       "      <td>Grocery Store</td>\n",
       "      <td>317.5866</td>\n",
       "    </tr>\n",
       "    <tr>\n",
       "      <th>6871</th>\n",
       "      <td>FDV10</td>\n",
       "      <td>NaN</td>\n",
       "      <td>Regular</td>\n",
       "      <td>0.116794</td>\n",
       "      <td>Snack Foods</td>\n",
       "      <td>41.0112</td>\n",
       "      <td>OUT019</td>\n",
       "      <td>1985</td>\n",
       "      <td>Small</td>\n",
       "      <td>Tier 1</td>\n",
       "      <td>Grocery Store</td>\n",
       "      <td>42.6112</td>\n",
       "    </tr>\n",
       "  </tbody>\n",
       "</table>\n",
       "</div>"
      ],
      "text/plain": [
       "     Item_Identifier  Item_Weight Item_Fat_Content  Item_Visibility  \\\n",
       "7966           NCE19          NaN          Low Fat         0.092564   \n",
       "7996           NCH55          NaN          Low Fat         0.060707   \n",
       "3484           NCF31          NaN          Low Fat         0.090778   \n",
       "2589           FDG60          NaN          Low Fat         0.060406   \n",
       "7837           FDC16          NaN          Regular         0.020470   \n",
       "8373           FDX44          NaN          Low Fat         0.042758   \n",
       "6184           FDZ19          NaN          Low Fat         0.093002   \n",
       "7620           DRI51          NaN          Low Fat         0.042037   \n",
       "208            FDS45          NaN          Regular         0.051644   \n",
       "6871           FDV10          NaN          Regular         0.116794   \n",
       "\n",
       "                  Item_Type  Item_MRP Outlet_Identifier  \\\n",
       "7966              Household   53.4956            OUT027   \n",
       "7996              Household  127.5020            OUT019   \n",
       "3484              Household  153.1024            OUT019   \n",
       "2589           Baking Goods  234.5616            OUT027   \n",
       "7837                  Dairy   88.2540            OUT027   \n",
       "8373  Fruits and Vegetables   88.4172            OUT027   \n",
       "6184  Fruits and Vegetables  177.7712            OUT027   \n",
       "7620                  Dairy  172.6764            OUT027   \n",
       "208             Snack Foods  107.3622            OUT019   \n",
       "6871            Snack Foods   41.0112            OUT019   \n",
       "\n",
       "      Outlet_Establishment_Year Outlet_Size Outlet_Location_Type  \\\n",
       "7966                       1985      Medium               Tier 3   \n",
       "7996                       1985       Small               Tier 1   \n",
       "3484                       1985       Small               Tier 1   \n",
       "2589                       1985      Medium               Tier 3   \n",
       "7837                       1985      Medium               Tier 3   \n",
       "8373                       1985      Medium               Tier 3   \n",
       "6184                       1985      Medium               Tier 3   \n",
       "7620                       1985      Medium               Tier 3   \n",
       "208                        1985       Small               Tier 1   \n",
       "6871                       1985       Small               Tier 1   \n",
       "\n",
       "            Outlet_Type  Item_Outlet_Sales  \n",
       "7966  Supermarket Type3          2129.2284  \n",
       "7996      Grocery Store           379.5060  \n",
       "3484      Grocery Store           303.6048  \n",
       "2589  Supermarket Type3          6796.4864  \n",
       "7837  Supermarket Type3          2510.0660  \n",
       "8373  Supermarket Type3          2051.9956  \n",
       "6184  Supermarket Type3          4921.5936  \n",
       "7620  Supermarket Type3          6183.9504  \n",
       "208       Grocery Store           317.5866  \n",
       "6871      Grocery Store            42.6112  "
      ]
     },
     "execution_count": 151,
     "metadata": {},
     "output_type": "execute_result"
    }
   ],
   "source": [
    "df[df.Item_Weight.isnull()].sample(10)"
   ]
  },
  {
   "cell_type": "markdown",
   "metadata": {},
   "source": [
    "## Outlet_Size Missing Values\n",
    "\n",
    "[Back to Programmatic Assessment](#id_4_2)"
   ]
  },
  {
   "cell_type": "code",
   "execution_count": 152,
   "metadata": {
    "scrolled": true
   },
   "outputs": [
    {
     "data": {
      "text/html": [
       "<div>\n",
       "<style scoped>\n",
       "    .dataframe tbody tr th:only-of-type {\n",
       "        vertical-align: middle;\n",
       "    }\n",
       "\n",
       "    .dataframe tbody tr th {\n",
       "        vertical-align: top;\n",
       "    }\n",
       "\n",
       "    .dataframe thead th {\n",
       "        text-align: right;\n",
       "    }\n",
       "</style>\n",
       "<table border=\"1\" class=\"dataframe\">\n",
       "  <thead>\n",
       "    <tr style=\"text-align: right;\">\n",
       "      <th></th>\n",
       "      <th>Item_Identifier</th>\n",
       "      <th>Item_Weight</th>\n",
       "      <th>Item_Fat_Content</th>\n",
       "      <th>Item_Visibility</th>\n",
       "      <th>Item_Type</th>\n",
       "      <th>Item_MRP</th>\n",
       "      <th>Outlet_Identifier</th>\n",
       "      <th>Outlet_Establishment_Year</th>\n",
       "      <th>Outlet_Size</th>\n",
       "      <th>Outlet_Location_Type</th>\n",
       "      <th>Outlet_Type</th>\n",
       "      <th>Item_Outlet_Sales</th>\n",
       "    </tr>\n",
       "  </thead>\n",
       "  <tbody>\n",
       "    <tr>\n",
       "      <th>8279</th>\n",
       "      <td>FDS36</td>\n",
       "      <td>8.38</td>\n",
       "      <td>Regular</td>\n",
       "      <td>0.047153</td>\n",
       "      <td>Baking Goods</td>\n",
       "      <td>110.1570</td>\n",
       "      <td>OUT017</td>\n",
       "      <td>2007</td>\n",
       "      <td>NaN</td>\n",
       "      <td>Tier 2</td>\n",
       "      <td>Supermarket Type1</td>\n",
       "      <td>3185.8530</td>\n",
       "    </tr>\n",
       "    <tr>\n",
       "      <th>772</th>\n",
       "      <td>DRC12</td>\n",
       "      <td>17.85</td>\n",
       "      <td>Low Fat</td>\n",
       "      <td>0.038041</td>\n",
       "      <td>Soft Drinks</td>\n",
       "      <td>189.1188</td>\n",
       "      <td>OUT017</td>\n",
       "      <td>2007</td>\n",
       "      <td>NaN</td>\n",
       "      <td>Tier 2</td>\n",
       "      <td>Supermarket Type1</td>\n",
       "      <td>3237.1196</td>\n",
       "    </tr>\n",
       "    <tr>\n",
       "      <th>963</th>\n",
       "      <td>FDD59</td>\n",
       "      <td>10.50</td>\n",
       "      <td>Regular</td>\n",
       "      <td>0.066315</td>\n",
       "      <td>Starchy Foods</td>\n",
       "      <td>78.2960</td>\n",
       "      <td>OUT045</td>\n",
       "      <td>2002</td>\n",
       "      <td>NaN</td>\n",
       "      <td>Tier 2</td>\n",
       "      <td>Supermarket Type1</td>\n",
       "      <td>2157.1920</td>\n",
       "    </tr>\n",
       "    <tr>\n",
       "      <th>493</th>\n",
       "      <td>FDN09</td>\n",
       "      <td>14.15</td>\n",
       "      <td>Low Fat</td>\n",
       "      <td>0.058373</td>\n",
       "      <td>Snack Foods</td>\n",
       "      <td>243.9828</td>\n",
       "      <td>OUT010</td>\n",
       "      <td>1998</td>\n",
       "      <td>NaN</td>\n",
       "      <td>Tier 3</td>\n",
       "      <td>Grocery Store</td>\n",
       "      <td>731.0484</td>\n",
       "    </tr>\n",
       "    <tr>\n",
       "      <th>6369</th>\n",
       "      <td>FDO08</td>\n",
       "      <td>11.10</td>\n",
       "      <td>Regular</td>\n",
       "      <td>0.054080</td>\n",
       "      <td>Fruits and Vegetables</td>\n",
       "      <td>165.9526</td>\n",
       "      <td>OUT017</td>\n",
       "      <td>2007</td>\n",
       "      <td>NaN</td>\n",
       "      <td>Tier 2</td>\n",
       "      <td>Supermarket Type1</td>\n",
       "      <td>2631.2416</td>\n",
       "    </tr>\n",
       "    <tr>\n",
       "      <th>2883</th>\n",
       "      <td>FDW26</td>\n",
       "      <td>11.80</td>\n",
       "      <td>Regular</td>\n",
       "      <td>0.107274</td>\n",
       "      <td>Dairy</td>\n",
       "      <td>221.1772</td>\n",
       "      <td>OUT045</td>\n",
       "      <td>2002</td>\n",
       "      <td>NaN</td>\n",
       "      <td>Tier 2</td>\n",
       "      <td>Supermarket Type1</td>\n",
       "      <td>3113.2808</td>\n",
       "    </tr>\n",
       "    <tr>\n",
       "      <th>559</th>\n",
       "      <td>FDS32</td>\n",
       "      <td>17.75</td>\n",
       "      <td>Regular</td>\n",
       "      <td>0.000000</td>\n",
       "      <td>Fruits and Vegetables</td>\n",
       "      <td>139.9838</td>\n",
       "      <td>OUT045</td>\n",
       "      <td>2002</td>\n",
       "      <td>NaN</td>\n",
       "      <td>Tier 2</td>\n",
       "      <td>Supermarket Type1</td>\n",
       "      <td>1966.7732</td>\n",
       "    </tr>\n",
       "    <tr>\n",
       "      <th>8208</th>\n",
       "      <td>FDM20</td>\n",
       "      <td>10.00</td>\n",
       "      <td>Low Fat</td>\n",
       "      <td>0.038905</td>\n",
       "      <td>Fruits and Vegetables</td>\n",
       "      <td>245.4144</td>\n",
       "      <td>OUT017</td>\n",
       "      <td>2007</td>\n",
       "      <td>NaN</td>\n",
       "      <td>Tier 2</td>\n",
       "      <td>Supermarket Type1</td>\n",
       "      <td>6615.3888</td>\n",
       "    </tr>\n",
       "    <tr>\n",
       "      <th>1974</th>\n",
       "      <td>FDK25</td>\n",
       "      <td>11.60</td>\n",
       "      <td>Regular</td>\n",
       "      <td>0.157719</td>\n",
       "      <td>Breakfast</td>\n",
       "      <td>168.3474</td>\n",
       "      <td>OUT017</td>\n",
       "      <td>2007</td>\n",
       "      <td>NaN</td>\n",
       "      <td>Tier 2</td>\n",
       "      <td>Supermarket Type1</td>\n",
       "      <td>4548.0798</td>\n",
       "    </tr>\n",
       "    <tr>\n",
       "      <th>3991</th>\n",
       "      <td>FDK20</td>\n",
       "      <td>12.60</td>\n",
       "      <td>Regular</td>\n",
       "      <td>0.041642</td>\n",
       "      <td>Fruits and Vegetables</td>\n",
       "      <td>121.1072</td>\n",
       "      <td>OUT045</td>\n",
       "      <td>2002</td>\n",
       "      <td>NaN</td>\n",
       "      <td>Tier 2</td>\n",
       "      <td>Supermarket Type1</td>\n",
       "      <td>980.0576</td>\n",
       "    </tr>\n",
       "  </tbody>\n",
       "</table>\n",
       "</div>"
      ],
      "text/plain": [
       "     Item_Identifier  Item_Weight Item_Fat_Content  Item_Visibility  \\\n",
       "8279           FDS36         8.38          Regular         0.047153   \n",
       "772            DRC12        17.85          Low Fat         0.038041   \n",
       "963            FDD59        10.50          Regular         0.066315   \n",
       "493            FDN09        14.15          Low Fat         0.058373   \n",
       "6369           FDO08        11.10          Regular         0.054080   \n",
       "2883           FDW26        11.80          Regular         0.107274   \n",
       "559            FDS32        17.75          Regular         0.000000   \n",
       "8208           FDM20        10.00          Low Fat         0.038905   \n",
       "1974           FDK25        11.60          Regular         0.157719   \n",
       "3991           FDK20        12.60          Regular         0.041642   \n",
       "\n",
       "                  Item_Type  Item_MRP Outlet_Identifier  \\\n",
       "8279           Baking Goods  110.1570            OUT017   \n",
       "772             Soft Drinks  189.1188            OUT017   \n",
       "963           Starchy Foods   78.2960            OUT045   \n",
       "493             Snack Foods  243.9828            OUT010   \n",
       "6369  Fruits and Vegetables  165.9526            OUT017   \n",
       "2883                  Dairy  221.1772            OUT045   \n",
       "559   Fruits and Vegetables  139.9838            OUT045   \n",
       "8208  Fruits and Vegetables  245.4144            OUT017   \n",
       "1974              Breakfast  168.3474            OUT017   \n",
       "3991  Fruits and Vegetables  121.1072            OUT045   \n",
       "\n",
       "      Outlet_Establishment_Year Outlet_Size Outlet_Location_Type  \\\n",
       "8279                       2007         NaN               Tier 2   \n",
       "772                        2007         NaN               Tier 2   \n",
       "963                        2002         NaN               Tier 2   \n",
       "493                        1998         NaN               Tier 3   \n",
       "6369                       2007         NaN               Tier 2   \n",
       "2883                       2002         NaN               Tier 2   \n",
       "559                        2002         NaN               Tier 2   \n",
       "8208                       2007         NaN               Tier 2   \n",
       "1974                       2007         NaN               Tier 2   \n",
       "3991                       2002         NaN               Tier 2   \n",
       "\n",
       "            Outlet_Type  Item_Outlet_Sales  \n",
       "8279  Supermarket Type1          3185.8530  \n",
       "772   Supermarket Type1          3237.1196  \n",
       "963   Supermarket Type1          2157.1920  \n",
       "493       Grocery Store           731.0484  \n",
       "6369  Supermarket Type1          2631.2416  \n",
       "2883  Supermarket Type1          3113.2808  \n",
       "559   Supermarket Type1          1966.7732  \n",
       "8208  Supermarket Type1          6615.3888  \n",
       "1974  Supermarket Type1          4548.0798  \n",
       "3991  Supermarket Type1           980.0576  "
      ]
     },
     "execution_count": 152,
     "metadata": {},
     "output_type": "execute_result"
    }
   ],
   "source": [
    "df[df.Outlet_Size.isnull()].sample(10)"
   ]
  },
  {
   "cell_type": "markdown",
   "metadata": {},
   "source": [
    "## Grouping byOutlet Identifier\n",
    "\n",
    "[Back to Programmatic Assessment](#id_4_2)"
   ]
  },
  {
   "cell_type": "code",
   "execution_count": 153,
   "metadata": {
    "scrolled": false
   },
   "outputs": [
    {
     "data": {
      "text/html": [
       "<div>\n",
       "<style scoped>\n",
       "    .dataframe tbody tr th:only-of-type {\n",
       "        vertical-align: middle;\n",
       "    }\n",
       "\n",
       "    .dataframe tbody tr th {\n",
       "        vertical-align: top;\n",
       "    }\n",
       "\n",
       "    .dataframe thead th {\n",
       "        text-align: right;\n",
       "    }\n",
       "</style>\n",
       "<table border=\"1\" class=\"dataframe\">\n",
       "  <thead>\n",
       "    <tr style=\"text-align: right;\">\n",
       "      <th></th>\n",
       "      <th>Item_Identifier</th>\n",
       "      <th>Item_Weight</th>\n",
       "      <th>Item_Fat_Content</th>\n",
       "      <th>Item_Visibility</th>\n",
       "      <th>Item_Type</th>\n",
       "      <th>Item_MRP</th>\n",
       "      <th>Outlet_Establishment_Year</th>\n",
       "      <th>Outlet_Size</th>\n",
       "      <th>Outlet_Location_Type</th>\n",
       "      <th>Outlet_Type</th>\n",
       "      <th>Item_Outlet_Sales</th>\n",
       "    </tr>\n",
       "    <tr>\n",
       "      <th>Outlet_Identifier</th>\n",
       "      <th></th>\n",
       "      <th></th>\n",
       "      <th></th>\n",
       "      <th></th>\n",
       "      <th></th>\n",
       "      <th></th>\n",
       "      <th></th>\n",
       "      <th></th>\n",
       "      <th></th>\n",
       "      <th></th>\n",
       "      <th></th>\n",
       "    </tr>\n",
       "  </thead>\n",
       "  <tbody>\n",
       "    <tr>\n",
       "      <th>OUT010</th>\n",
       "      <td>555</td>\n",
       "      <td>555</td>\n",
       "      <td>555</td>\n",
       "      <td>555</td>\n",
       "      <td>555</td>\n",
       "      <td>555</td>\n",
       "      <td>555</td>\n",
       "      <td>0</td>\n",
       "      <td>555</td>\n",
       "      <td>555</td>\n",
       "      <td>555</td>\n",
       "    </tr>\n",
       "    <tr>\n",
       "      <th>OUT013</th>\n",
       "      <td>932</td>\n",
       "      <td>932</td>\n",
       "      <td>932</td>\n",
       "      <td>932</td>\n",
       "      <td>932</td>\n",
       "      <td>932</td>\n",
       "      <td>932</td>\n",
       "      <td>932</td>\n",
       "      <td>932</td>\n",
       "      <td>932</td>\n",
       "      <td>932</td>\n",
       "    </tr>\n",
       "    <tr>\n",
       "      <th>OUT017</th>\n",
       "      <td>926</td>\n",
       "      <td>926</td>\n",
       "      <td>926</td>\n",
       "      <td>926</td>\n",
       "      <td>926</td>\n",
       "      <td>926</td>\n",
       "      <td>926</td>\n",
       "      <td>0</td>\n",
       "      <td>926</td>\n",
       "      <td>926</td>\n",
       "      <td>926</td>\n",
       "    </tr>\n",
       "    <tr>\n",
       "      <th>OUT018</th>\n",
       "      <td>928</td>\n",
       "      <td>928</td>\n",
       "      <td>928</td>\n",
       "      <td>928</td>\n",
       "      <td>928</td>\n",
       "      <td>928</td>\n",
       "      <td>928</td>\n",
       "      <td>928</td>\n",
       "      <td>928</td>\n",
       "      <td>928</td>\n",
       "      <td>928</td>\n",
       "    </tr>\n",
       "    <tr>\n",
       "      <th>OUT019</th>\n",
       "      <td>528</td>\n",
       "      <td>0</td>\n",
       "      <td>528</td>\n",
       "      <td>528</td>\n",
       "      <td>528</td>\n",
       "      <td>528</td>\n",
       "      <td>528</td>\n",
       "      <td>528</td>\n",
       "      <td>528</td>\n",
       "      <td>528</td>\n",
       "      <td>528</td>\n",
       "    </tr>\n",
       "    <tr>\n",
       "      <th>OUT027</th>\n",
       "      <td>935</td>\n",
       "      <td>0</td>\n",
       "      <td>935</td>\n",
       "      <td>935</td>\n",
       "      <td>935</td>\n",
       "      <td>935</td>\n",
       "      <td>935</td>\n",
       "      <td>935</td>\n",
       "      <td>935</td>\n",
       "      <td>935</td>\n",
       "      <td>935</td>\n",
       "    </tr>\n",
       "    <tr>\n",
       "      <th>OUT035</th>\n",
       "      <td>930</td>\n",
       "      <td>930</td>\n",
       "      <td>930</td>\n",
       "      <td>930</td>\n",
       "      <td>930</td>\n",
       "      <td>930</td>\n",
       "      <td>930</td>\n",
       "      <td>930</td>\n",
       "      <td>930</td>\n",
       "      <td>930</td>\n",
       "      <td>930</td>\n",
       "    </tr>\n",
       "    <tr>\n",
       "      <th>OUT045</th>\n",
       "      <td>929</td>\n",
       "      <td>929</td>\n",
       "      <td>929</td>\n",
       "      <td>929</td>\n",
       "      <td>929</td>\n",
       "      <td>929</td>\n",
       "      <td>929</td>\n",
       "      <td>0</td>\n",
       "      <td>929</td>\n",
       "      <td>929</td>\n",
       "      <td>929</td>\n",
       "    </tr>\n",
       "    <tr>\n",
       "      <th>OUT046</th>\n",
       "      <td>930</td>\n",
       "      <td>930</td>\n",
       "      <td>930</td>\n",
       "      <td>930</td>\n",
       "      <td>930</td>\n",
       "      <td>930</td>\n",
       "      <td>930</td>\n",
       "      <td>930</td>\n",
       "      <td>930</td>\n",
       "      <td>930</td>\n",
       "      <td>930</td>\n",
       "    </tr>\n",
       "    <tr>\n",
       "      <th>OUT049</th>\n",
       "      <td>930</td>\n",
       "      <td>930</td>\n",
       "      <td>930</td>\n",
       "      <td>930</td>\n",
       "      <td>930</td>\n",
       "      <td>930</td>\n",
       "      <td>930</td>\n",
       "      <td>930</td>\n",
       "      <td>930</td>\n",
       "      <td>930</td>\n",
       "      <td>930</td>\n",
       "    </tr>\n",
       "  </tbody>\n",
       "</table>\n",
       "</div>"
      ],
      "text/plain": [
       "                   Item_Identifier  Item_Weight  Item_Fat_Content  \\\n",
       "Outlet_Identifier                                                   \n",
       "OUT010                         555          555               555   \n",
       "OUT013                         932          932               932   \n",
       "OUT017                         926          926               926   \n",
       "OUT018                         928          928               928   \n",
       "OUT019                         528            0               528   \n",
       "OUT027                         935            0               935   \n",
       "OUT035                         930          930               930   \n",
       "OUT045                         929          929               929   \n",
       "OUT046                         930          930               930   \n",
       "OUT049                         930          930               930   \n",
       "\n",
       "                   Item_Visibility  Item_Type  Item_MRP  \\\n",
       "Outlet_Identifier                                         \n",
       "OUT010                         555        555       555   \n",
       "OUT013                         932        932       932   \n",
       "OUT017                         926        926       926   \n",
       "OUT018                         928        928       928   \n",
       "OUT019                         528        528       528   \n",
       "OUT027                         935        935       935   \n",
       "OUT035                         930        930       930   \n",
       "OUT045                         929        929       929   \n",
       "OUT046                         930        930       930   \n",
       "OUT049                         930        930       930   \n",
       "\n",
       "                   Outlet_Establishment_Year  Outlet_Size  \\\n",
       "Outlet_Identifier                                           \n",
       "OUT010                                   555            0   \n",
       "OUT013                                   932          932   \n",
       "OUT017                                   926            0   \n",
       "OUT018                                   928          928   \n",
       "OUT019                                   528          528   \n",
       "OUT027                                   935          935   \n",
       "OUT035                                   930          930   \n",
       "OUT045                                   929            0   \n",
       "OUT046                                   930          930   \n",
       "OUT049                                   930          930   \n",
       "\n",
       "                   Outlet_Location_Type  Outlet_Type  Item_Outlet_Sales  \n",
       "Outlet_Identifier                                                        \n",
       "OUT010                              555          555                555  \n",
       "OUT013                              932          932                932  \n",
       "OUT017                              926          926                926  \n",
       "OUT018                              928          928                928  \n",
       "OUT019                              528          528                528  \n",
       "OUT027                              935          935                935  \n",
       "OUT035                              930          930                930  \n",
       "OUT045                              929          929                929  \n",
       "OUT046                              930          930                930  \n",
       "OUT049                              930          930                930  "
      ]
     },
     "execution_count": 153,
     "metadata": {},
     "output_type": "execute_result"
    }
   ],
   "source": [
    "df.groupby('Outlet_Identifier').count()"
   ]
  },
  {
   "cell_type": "markdown",
   "metadata": {},
   "source": [
    "> **Note:** `NaN` values in Item_Weight and Outlet_Size, let's document this in [Assessment Docummentions](#id_4_3) section."
   ]
  },
  {
   "cell_type": "code",
   "execution_count": 154,
   "metadata": {},
   "outputs": [
    {
     "name": "stdout",
     "output_type": "stream",
     "text": [
      "Number of Item_Weight values in the following Outlets:\n",
      "OUT019 = 0\n",
      "OUT027 = 0\n",
      "\n",
      "Number of Outlet_Size values in the following Outlets:\n",
      "OUT010 = 0\n",
      "OUT017 = 0\n",
      "OUT045 = 0\n"
     ]
    }
   ],
   "source": [
    "print('Number of Item_Weight values in the following Outlets:')\n",
    "print('OUT019 =', int(df.query('Outlet_Identifier == \"OUT019\"').Item_Weight.sum()))\n",
    "print('OUT027 =', int(df.query('Outlet_Identifier == \"OUT027\"').Item_Weight.sum()))\n",
    "print('')\n",
    "print('Number of Outlet_Size values in the following Outlets:')\n",
    "print('OUT010 =', df.query('Outlet_Identifier == \"OUT010\"').Outlet_Size.sum())\n",
    "print('OUT017 =', df.query('Outlet_Identifier == \"OUT017\"').Outlet_Size.sum())\n",
    "print('OUT045 =', df.query('Outlet_Identifier == \"OUT045\"').Outlet_Size.sum())"
   ]
  },
  {
   "cell_type": "markdown",
   "metadata": {},
   "source": [
    "> It looks like the missing values in Item Weight and Outlet Size are due to being these attributes are missing originally from some specific outlets, thus this values cannot be retrieved."
   ]
  },
  {
   "cell_type": "markdown",
   "metadata": {},
   "source": [
    "## Data Duplication \n",
    "\n",
    "[Back to Programmatic Assessment](#id_4_2)"
   ]
  },
  {
   "cell_type": "code",
   "execution_count": 155,
   "metadata": {
    "scrolled": false
   },
   "outputs": [
    {
     "data": {
      "text/html": [
       "<div>\n",
       "<style scoped>\n",
       "    .dataframe tbody tr th:only-of-type {\n",
       "        vertical-align: middle;\n",
       "    }\n",
       "\n",
       "    .dataframe tbody tr th {\n",
       "        vertical-align: top;\n",
       "    }\n",
       "\n",
       "    .dataframe thead th {\n",
       "        text-align: right;\n",
       "    }\n",
       "</style>\n",
       "<table border=\"1\" class=\"dataframe\">\n",
       "  <thead>\n",
       "    <tr style=\"text-align: right;\">\n",
       "      <th></th>\n",
       "      <th>Item_Identifier</th>\n",
       "      <th>Item_Weight</th>\n",
       "      <th>Item_Fat_Content</th>\n",
       "      <th>Item_Visibility</th>\n",
       "      <th>Item_Type</th>\n",
       "      <th>Item_MRP</th>\n",
       "      <th>Outlet_Identifier</th>\n",
       "      <th>Outlet_Establishment_Year</th>\n",
       "      <th>Outlet_Size</th>\n",
       "      <th>Outlet_Location_Type</th>\n",
       "      <th>Outlet_Type</th>\n",
       "      <th>Item_Outlet_Sales</th>\n",
       "    </tr>\n",
       "  </thead>\n",
       "  <tbody>\n",
       "  </tbody>\n",
       "</table>\n",
       "</div>"
      ],
      "text/plain": [
       "Empty DataFrame\n",
       "Columns: [Item_Identifier, Item_Weight, Item_Fat_Content, Item_Visibility, Item_Type, Item_MRP, Outlet_Identifier, Outlet_Establishment_Year, Outlet_Size, Outlet_Location_Type, Outlet_Type, Item_Outlet_Sales]\n",
       "Index: []"
      ]
     },
     "execution_count": 155,
     "metadata": {},
     "output_type": "execute_result"
    }
   ],
   "source": [
    "# Checking duplication  for the all the variables except the Id var\n",
    "df[df.loc[:, 'Item_Weight':].duplicated()]"
   ]
  },
  {
   "cell_type": "markdown",
   "metadata": {},
   "source": [
    "## Item Visibility Max and Min Values\n",
    "\n",
    "[Back to Programmatic Assessment](#id_4_2)"
   ]
  },
  {
   "cell_type": "code",
   "execution_count": 156,
   "metadata": {
    "scrolled": false
   },
   "outputs": [
    {
     "data": {
      "text/html": [
       "<div>\n",
       "<style scoped>\n",
       "    .dataframe tbody tr th:only-of-type {\n",
       "        vertical-align: middle;\n",
       "    }\n",
       "\n",
       "    .dataframe tbody tr th {\n",
       "        vertical-align: top;\n",
       "    }\n",
       "\n",
       "    .dataframe thead th {\n",
       "        text-align: right;\n",
       "    }\n",
       "</style>\n",
       "<table border=\"1\" class=\"dataframe\">\n",
       "  <thead>\n",
       "    <tr style=\"text-align: right;\">\n",
       "      <th></th>\n",
       "      <th>Item_Identifier</th>\n",
       "      <th>Item_Weight</th>\n",
       "      <th>Item_Fat_Content</th>\n",
       "      <th>Item_Visibility</th>\n",
       "      <th>Item_Type</th>\n",
       "      <th>Item_MRP</th>\n",
       "      <th>Outlet_Identifier</th>\n",
       "      <th>Outlet_Establishment_Year</th>\n",
       "      <th>Outlet_Size</th>\n",
       "      <th>Outlet_Location_Type</th>\n",
       "      <th>Outlet_Type</th>\n",
       "      <th>Item_Outlet_Sales</th>\n",
       "    </tr>\n",
       "  </thead>\n",
       "  <tbody>\n",
       "    <tr>\n",
       "      <th>854</th>\n",
       "      <td>FDU13</td>\n",
       "      <td>NaN</td>\n",
       "      <td>low fat</td>\n",
       "      <td>0.328391</td>\n",
       "      <td>Canned</td>\n",
       "      <td>146.0418</td>\n",
       "      <td>OUT019</td>\n",
       "      <td>1985</td>\n",
       "      <td>Small</td>\n",
       "      <td>Tier 1</td>\n",
       "      <td>Grocery Store</td>\n",
       "      <td>588.5672</td>\n",
       "    </tr>\n",
       "    <tr>\n",
       "      <th>3750</th>\n",
       "      <td>NCZ18</td>\n",
       "      <td>NaN</td>\n",
       "      <td>Low Fat</td>\n",
       "      <td>0.325781</td>\n",
       "      <td>Household</td>\n",
       "      <td>252.7698</td>\n",
       "      <td>OUT019</td>\n",
       "      <td>1985</td>\n",
       "      <td>Small</td>\n",
       "      <td>Tier 1</td>\n",
       "      <td>Grocery Store</td>\n",
       "      <td>761.0094</td>\n",
       "    </tr>\n",
       "    <tr>\n",
       "      <th>1805</th>\n",
       "      <td>FDJ56</td>\n",
       "      <td>NaN</td>\n",
       "      <td>Low Fat</td>\n",
       "      <td>0.321115</td>\n",
       "      <td>Fruits and Vegetables</td>\n",
       "      <td>100.7700</td>\n",
       "      <td>OUT019</td>\n",
       "      <td>1985</td>\n",
       "      <td>Small</td>\n",
       "      <td>Tier 1</td>\n",
       "      <td>Grocery Store</td>\n",
       "      <td>199.7400</td>\n",
       "    </tr>\n",
       "    <tr>\n",
       "      <th>7250</th>\n",
       "      <td>FDT24</td>\n",
       "      <td>12.35</td>\n",
       "      <td>Regular</td>\n",
       "      <td>0.311090</td>\n",
       "      <td>Baking Goods</td>\n",
       "      <td>79.2328</td>\n",
       "      <td>OUT010</td>\n",
       "      <td>1998</td>\n",
       "      <td>NaN</td>\n",
       "      <td>Tier 3</td>\n",
       "      <td>Grocery Store</td>\n",
       "      <td>154.4656</td>\n",
       "    </tr>\n",
       "    <tr>\n",
       "      <th>2855</th>\n",
       "      <td>NCE31</td>\n",
       "      <td>7.67</td>\n",
       "      <td>Low Fat</td>\n",
       "      <td>0.309390</td>\n",
       "      <td>Household</td>\n",
       "      <td>33.2216</td>\n",
       "      <td>OUT010</td>\n",
       "      <td>1998</td>\n",
       "      <td>NaN</td>\n",
       "      <td>Tier 3</td>\n",
       "      <td>Grocery Store</td>\n",
       "      <td>138.4864</td>\n",
       "    </tr>\n",
       "    <tr>\n",
       "      <th>4382</th>\n",
       "      <td>FDG32</td>\n",
       "      <td>NaN</td>\n",
       "      <td>Low Fat</td>\n",
       "      <td>0.308145</td>\n",
       "      <td>Fruits and Vegetables</td>\n",
       "      <td>222.0772</td>\n",
       "      <td>OUT019</td>\n",
       "      <td>1985</td>\n",
       "      <td>Small</td>\n",
       "      <td>Tier 1</td>\n",
       "      <td>Grocery Store</td>\n",
       "      <td>889.5088</td>\n",
       "    </tr>\n",
       "    <tr>\n",
       "      <th>7603</th>\n",
       "      <td>DRF01</td>\n",
       "      <td>NaN</td>\n",
       "      <td>Low Fat</td>\n",
       "      <td>0.306543</td>\n",
       "      <td>Soft Drinks</td>\n",
       "      <td>147.3102</td>\n",
       "      <td>OUT019</td>\n",
       "      <td>1985</td>\n",
       "      <td>Small</td>\n",
       "      <td>Tier 1</td>\n",
       "      <td>Grocery Store</td>\n",
       "      <td>291.6204</td>\n",
       "    </tr>\n",
       "    <tr>\n",
       "      <th>6622</th>\n",
       "      <td>FDI32</td>\n",
       "      <td>NaN</td>\n",
       "      <td>Low Fat</td>\n",
       "      <td>0.305305</td>\n",
       "      <td>Fruits and Vegetables</td>\n",
       "      <td>116.6834</td>\n",
       "      <td>OUT019</td>\n",
       "      <td>1985</td>\n",
       "      <td>Small</td>\n",
       "      <td>Tier 1</td>\n",
       "      <td>Grocery Store</td>\n",
       "      <td>460.7336</td>\n",
       "    </tr>\n",
       "    <tr>\n",
       "      <th>3474</th>\n",
       "      <td>FDS12</td>\n",
       "      <td>NaN</td>\n",
       "      <td>LF</td>\n",
       "      <td>0.304859</td>\n",
       "      <td>Baking Goods</td>\n",
       "      <td>125.4362</td>\n",
       "      <td>OUT019</td>\n",
       "      <td>1985</td>\n",
       "      <td>Small</td>\n",
       "      <td>Tier 1</td>\n",
       "      <td>Grocery Store</td>\n",
       "      <td>755.0172</td>\n",
       "    </tr>\n",
       "    <tr>\n",
       "      <th>5150</th>\n",
       "      <td>FDR14</td>\n",
       "      <td>NaN</td>\n",
       "      <td>Low Fat</td>\n",
       "      <td>0.304737</td>\n",
       "      <td>Dairy</td>\n",
       "      <td>54.7298</td>\n",
       "      <td>OUT019</td>\n",
       "      <td>1985</td>\n",
       "      <td>Small</td>\n",
       "      <td>Tier 1</td>\n",
       "      <td>Grocery Store</td>\n",
       "      <td>107.8596</td>\n",
       "    </tr>\n",
       "  </tbody>\n",
       "</table>\n",
       "</div>"
      ],
      "text/plain": [
       "     Item_Identifier  Item_Weight Item_Fat_Content  Item_Visibility  \\\n",
       "854            FDU13          NaN          low fat         0.328391   \n",
       "3750           NCZ18          NaN          Low Fat         0.325781   \n",
       "1805           FDJ56          NaN          Low Fat         0.321115   \n",
       "7250           FDT24        12.35          Regular         0.311090   \n",
       "2855           NCE31         7.67          Low Fat         0.309390   \n",
       "4382           FDG32          NaN          Low Fat         0.308145   \n",
       "7603           DRF01          NaN          Low Fat         0.306543   \n",
       "6622           FDI32          NaN          Low Fat         0.305305   \n",
       "3474           FDS12          NaN               LF         0.304859   \n",
       "5150           FDR14          NaN          Low Fat         0.304737   \n",
       "\n",
       "                  Item_Type  Item_MRP Outlet_Identifier  \\\n",
       "854                  Canned  146.0418            OUT019   \n",
       "3750              Household  252.7698            OUT019   \n",
       "1805  Fruits and Vegetables  100.7700            OUT019   \n",
       "7250           Baking Goods   79.2328            OUT010   \n",
       "2855              Household   33.2216            OUT010   \n",
       "4382  Fruits and Vegetables  222.0772            OUT019   \n",
       "7603            Soft Drinks  147.3102            OUT019   \n",
       "6622  Fruits and Vegetables  116.6834            OUT019   \n",
       "3474           Baking Goods  125.4362            OUT019   \n",
       "5150                  Dairy   54.7298            OUT019   \n",
       "\n",
       "      Outlet_Establishment_Year Outlet_Size Outlet_Location_Type  \\\n",
       "854                        1985       Small               Tier 1   \n",
       "3750                       1985       Small               Tier 1   \n",
       "1805                       1985       Small               Tier 1   \n",
       "7250                       1998         NaN               Tier 3   \n",
       "2855                       1998         NaN               Tier 3   \n",
       "4382                       1985       Small               Tier 1   \n",
       "7603                       1985       Small               Tier 1   \n",
       "6622                       1985       Small               Tier 1   \n",
       "3474                       1985       Small               Tier 1   \n",
       "5150                       1985       Small               Tier 1   \n",
       "\n",
       "        Outlet_Type  Item_Outlet_Sales  \n",
       "854   Grocery Store           588.5672  \n",
       "3750  Grocery Store           761.0094  \n",
       "1805  Grocery Store           199.7400  \n",
       "7250  Grocery Store           154.4656  \n",
       "2855  Grocery Store           138.4864  \n",
       "4382  Grocery Store           889.5088  \n",
       "7603  Grocery Store           291.6204  \n",
       "6622  Grocery Store           460.7336  \n",
       "3474  Grocery Store           755.0172  \n",
       "5150  Grocery Store           107.8596  "
      ]
     },
     "execution_count": 156,
     "metadata": {},
     "output_type": "execute_result"
    }
   ],
   "source": [
    "df.nlargest(10, 'Item_Visibility')"
   ]
  },
  {
   "cell_type": "code",
   "execution_count": 187,
   "metadata": {},
   "outputs": [
    {
     "data": {
      "text/html": [
       "<div>\n",
       "<style scoped>\n",
       "    .dataframe tbody tr th:only-of-type {\n",
       "        vertical-align: middle;\n",
       "    }\n",
       "\n",
       "    .dataframe tbody tr th {\n",
       "        vertical-align: top;\n",
       "    }\n",
       "\n",
       "    .dataframe thead th {\n",
       "        text-align: right;\n",
       "    }\n",
       "</style>\n",
       "<table border=\"1\" class=\"dataframe\">\n",
       "  <thead>\n",
       "    <tr style=\"text-align: right;\">\n",
       "      <th></th>\n",
       "      <th>Item_Identifier</th>\n",
       "      <th>Item_Weight</th>\n",
       "      <th>Item_Fat_Content</th>\n",
       "      <th>Item_Visibility</th>\n",
       "      <th>Item_Type</th>\n",
       "      <th>Item_MRP</th>\n",
       "      <th>Outlet_Identifier</th>\n",
       "      <th>Outlet_Establishment_Year</th>\n",
       "      <th>Outlet_Size</th>\n",
       "      <th>Outlet_Location_Type</th>\n",
       "      <th>Outlet_Type</th>\n",
       "      <th>Item_Outlet_Sales</th>\n",
       "    </tr>\n",
       "  </thead>\n",
       "  <tbody>\n",
       "    <tr>\n",
       "      <th>3</th>\n",
       "      <td>FDX07</td>\n",
       "      <td>19.200</td>\n",
       "      <td>Regular</td>\n",
       "      <td>0.0</td>\n",
       "      <td>Fruits and Vegetables</td>\n",
       "      <td>182.0950</td>\n",
       "      <td>OUT010</td>\n",
       "      <td>1998</td>\n",
       "      <td>NaN</td>\n",
       "      <td>Tier 3</td>\n",
       "      <td>Grocery Store</td>\n",
       "      <td>732.3800</td>\n",
       "    </tr>\n",
       "    <tr>\n",
       "      <th>4</th>\n",
       "      <td>NCD19</td>\n",
       "      <td>8.930</td>\n",
       "      <td>Low Fat</td>\n",
       "      <td>0.0</td>\n",
       "      <td>Household</td>\n",
       "      <td>53.8614</td>\n",
       "      <td>OUT013</td>\n",
       "      <td>1987</td>\n",
       "      <td>High</td>\n",
       "      <td>Tier 3</td>\n",
       "      <td>Supermarket Type1</td>\n",
       "      <td>994.7052</td>\n",
       "    </tr>\n",
       "    <tr>\n",
       "      <th>5</th>\n",
       "      <td>FDP36</td>\n",
       "      <td>10.395</td>\n",
       "      <td>Regular</td>\n",
       "      <td>0.0</td>\n",
       "      <td>Baking Goods</td>\n",
       "      <td>51.4008</td>\n",
       "      <td>OUT018</td>\n",
       "      <td>2009</td>\n",
       "      <td>Medium</td>\n",
       "      <td>Tier 3</td>\n",
       "      <td>Supermarket Type2</td>\n",
       "      <td>556.6088</td>\n",
       "    </tr>\n",
       "    <tr>\n",
       "      <th>10</th>\n",
       "      <td>FDY07</td>\n",
       "      <td>11.800</td>\n",
       "      <td>Low Fat</td>\n",
       "      <td>0.0</td>\n",
       "      <td>Fruits and Vegetables</td>\n",
       "      <td>45.5402</td>\n",
       "      <td>OUT049</td>\n",
       "      <td>1999</td>\n",
       "      <td>Medium</td>\n",
       "      <td>Tier 1</td>\n",
       "      <td>Supermarket Type1</td>\n",
       "      <td>1516.0266</td>\n",
       "    </tr>\n",
       "    <tr>\n",
       "      <th>32</th>\n",
       "      <td>FDP33</td>\n",
       "      <td>18.700</td>\n",
       "      <td>Low Fat</td>\n",
       "      <td>0.0</td>\n",
       "      <td>Snack Foods</td>\n",
       "      <td>256.6672</td>\n",
       "      <td>OUT018</td>\n",
       "      <td>2009</td>\n",
       "      <td>Medium</td>\n",
       "      <td>Tier 3</td>\n",
       "      <td>Supermarket Type2</td>\n",
       "      <td>3068.0064</td>\n",
       "    </tr>\n",
       "    <tr>\n",
       "      <th>33</th>\n",
       "      <td>FDO23</td>\n",
       "      <td>17.850</td>\n",
       "      <td>Low Fat</td>\n",
       "      <td>0.0</td>\n",
       "      <td>Breads</td>\n",
       "      <td>93.1436</td>\n",
       "      <td>OUT045</td>\n",
       "      <td>2002</td>\n",
       "      <td>NaN</td>\n",
       "      <td>Tier 2</td>\n",
       "      <td>Supermarket Type1</td>\n",
       "      <td>2174.5028</td>\n",
       "    </tr>\n",
       "    <tr>\n",
       "      <th>46</th>\n",
       "      <td>NCP05</td>\n",
       "      <td>19.600</td>\n",
       "      <td>Low Fat</td>\n",
       "      <td>0.0</td>\n",
       "      <td>Health and Hygiene</td>\n",
       "      <td>153.3024</td>\n",
       "      <td>OUT045</td>\n",
       "      <td>2002</td>\n",
       "      <td>NaN</td>\n",
       "      <td>Tier 2</td>\n",
       "      <td>Supermarket Type1</td>\n",
       "      <td>2428.8384</td>\n",
       "    </tr>\n",
       "    <tr>\n",
       "      <th>60</th>\n",
       "      <td>FDM20</td>\n",
       "      <td>10.000</td>\n",
       "      <td>Low Fat</td>\n",
       "      <td>0.0</td>\n",
       "      <td>Fruits and Vegetables</td>\n",
       "      <td>246.9144</td>\n",
       "      <td>OUT018</td>\n",
       "      <td>2009</td>\n",
       "      <td>Medium</td>\n",
       "      <td>Tier 3</td>\n",
       "      <td>Supermarket Type2</td>\n",
       "      <td>3185.1872</td>\n",
       "    </tr>\n",
       "    <tr>\n",
       "      <th>72</th>\n",
       "      <td>FDH35</td>\n",
       "      <td>18.250</td>\n",
       "      <td>Low Fat</td>\n",
       "      <td>0.0</td>\n",
       "      <td>Starchy Foods</td>\n",
       "      <td>164.7526</td>\n",
       "      <td>OUT045</td>\n",
       "      <td>2002</td>\n",
       "      <td>NaN</td>\n",
       "      <td>Tier 2</td>\n",
       "      <td>Supermarket Type1</td>\n",
       "      <td>4604.6728</td>\n",
       "    </tr>\n",
       "    <tr>\n",
       "      <th>79</th>\n",
       "      <td>FDV25</td>\n",
       "      <td>5.905</td>\n",
       "      <td>Low Fat</td>\n",
       "      <td>0.0</td>\n",
       "      <td>Canned</td>\n",
       "      <td>222.5456</td>\n",
       "      <td>OUT045</td>\n",
       "      <td>2002</td>\n",
       "      <td>NaN</td>\n",
       "      <td>Tier 2</td>\n",
       "      <td>Supermarket Type1</td>\n",
       "      <td>5305.0944</td>\n",
       "    </tr>\n",
       "  </tbody>\n",
       "</table>\n",
       "</div>"
      ],
      "text/plain": [
       "   Item_Identifier  Item_Weight Item_Fat_Content  Item_Visibility  \\\n",
       "3            FDX07       19.200          Regular              0.0   \n",
       "4            NCD19        8.930          Low Fat              0.0   \n",
       "5            FDP36       10.395          Regular              0.0   \n",
       "10           FDY07       11.800          Low Fat              0.0   \n",
       "32           FDP33       18.700          Low Fat              0.0   \n",
       "33           FDO23       17.850          Low Fat              0.0   \n",
       "46           NCP05       19.600          Low Fat              0.0   \n",
       "60           FDM20       10.000          Low Fat              0.0   \n",
       "72           FDH35       18.250          Low Fat              0.0   \n",
       "79           FDV25        5.905          Low Fat              0.0   \n",
       "\n",
       "                Item_Type  Item_MRP Outlet_Identifier  \\\n",
       "3   Fruits and Vegetables  182.0950            OUT010   \n",
       "4               Household   53.8614            OUT013   \n",
       "5            Baking Goods   51.4008            OUT018   \n",
       "10  Fruits and Vegetables   45.5402            OUT049   \n",
       "32            Snack Foods  256.6672            OUT018   \n",
       "33                 Breads   93.1436            OUT045   \n",
       "46     Health and Hygiene  153.3024            OUT045   \n",
       "60  Fruits and Vegetables  246.9144            OUT018   \n",
       "72          Starchy Foods  164.7526            OUT045   \n",
       "79                 Canned  222.5456            OUT045   \n",
       "\n",
       "    Outlet_Establishment_Year Outlet_Size Outlet_Location_Type  \\\n",
       "3                        1998         NaN               Tier 3   \n",
       "4                        1987        High               Tier 3   \n",
       "5                        2009      Medium               Tier 3   \n",
       "10                       1999      Medium               Tier 1   \n",
       "32                       2009      Medium               Tier 3   \n",
       "33                       2002         NaN               Tier 2   \n",
       "46                       2002         NaN               Tier 2   \n",
       "60                       2009      Medium               Tier 3   \n",
       "72                       2002         NaN               Tier 2   \n",
       "79                       2002         NaN               Tier 2   \n",
       "\n",
       "          Outlet_Type  Item_Outlet_Sales  \n",
       "3       Grocery Store           732.3800  \n",
       "4   Supermarket Type1           994.7052  \n",
       "5   Supermarket Type2           556.6088  \n",
       "10  Supermarket Type1          1516.0266  \n",
       "32  Supermarket Type2          3068.0064  \n",
       "33  Supermarket Type1          2174.5028  \n",
       "46  Supermarket Type1          2428.8384  \n",
       "60  Supermarket Type2          3185.1872  \n",
       "72  Supermarket Type1          4604.6728  \n",
       "79  Supermarket Type1          5305.0944  "
      ]
     },
     "execution_count": 187,
     "metadata": {},
     "output_type": "execute_result"
    }
   ],
   "source": [
    "df.nsmallest(10, 'Item_Visibility')"
   ]
  },
  {
   "cell_type": "markdown",
   "metadata": {},
   "source": [
    "> The observations with max values in Item Visibility variable look normal, thus we can exclude human error and no further investigation needed.\n",
    "> The observations with min values in Item Visibility variable returns 0 .\n"
   ]
  },
  {
   "cell_type": "markdown",
   "metadata": {},
   "source": [
    "<a id=\"id_4_3\"></a>\n",
    "# [Assessment Docummentions](#id_4_3)\n",
    "\n",
    "Let's seperate our docummentions by data issue types:\n",
    "\n",
    "<a id=\"id_4_3_1\"></a>\n",
    "## [Quality Issues](#id_4_3_1)\n",
    "- Column names are all in uppercase and.\n",
    "- Column with prefixes of `Item` or `Outlet`.\n",
    "- Column IDs.\n",
    "- There are some `NaN` values in Outlet_Size variable\n",
    "- Inconsistent values in Item_Fat_Content variavle ('Low Fat', 'Regular', 'LF', 'reg', 'low fat'])\n",
    "- There are some `NaN` values in Item_Weight variable\n",
    "- Values in Outlet_Type need to be modified (Supermarket Type1).\n",
    "- Missing values in Item_Weight and Outlet_Size\n",
    "- Datatype for Outlet_Establishment_Year is `int` not `date`\n",
    "\n",
    "\n",
    "<a id=\"id_4_3_2\"></a>\n",
    "## [Tidiness Issues](#id_4_3_2)\n",
    "- There are two observation units in the same data set `Items` and `Outlets`.\n",
    "\n",
    "[Back to Assessing Data](#id_4)<br>\n",
    "[Advance to Data Cleaning Process](#id_5_3)"
   ]
  },
  {
   "cell_type": "markdown",
   "metadata": {},
   "source": [
    "<a id=\"id_4_4\"></a>\n",
    "> ### [So Far, So Good](#id_4_4)\n",
    ">After we have `assessed` the dataset **manually** and **programmatically**, we're ready for the final step in Data Wrangling, [Cleaning Data](#id_3_3). And we are closer by one step our to reach [Our Goal](#id_1_4).<br>\n",
    ">- [X] Gathering\n",
    ">- [X] Assessing\n",
    ">- [ ] Cleaning\n",
    ">- [ ] Storing\n",
    ">- [ ] Analyzing\n",
    ">- [ ] Visualizing\n",
    ">- [ ] Reporting\n",
    "\n",
    "[Back to Assessing Data](#id_4)"
   ]
  },
  {
   "cell_type": "markdown",
   "metadata": {},
   "source": [
    "<a id=\"id_5\"></a>\n",
    "<h1 style=\"font-size:30px; color:#3A71AE\">Cleaning Data</h1>\n",
    "\n",
    "[Cleaning Data](https://en.wikipedia.org/wiki/Data_cleansing) is the final step in Data Wrangling. It's the process of correcting (or removing) corrupt or inaccurate records from a record set, table, or database through replacing, modifying, or deleting the dirty.\n",
    "\n",
    "**The concepts we will discuss**\n",
    "- [**Types of Data Cleaning**](#id_5_1)\n",
    "- [**Data Cleaning Steps**](#id_5_2)\n",
    "- [**Data Copying**](#id_5_copy)\n",
    "- [**Data Cleaning Process**](#id_5_3)\n",
    "\n",
    "[Back to Top](#top)"
   ]
  },
  {
   "cell_type": "markdown",
   "metadata": {},
   "source": [
    "<a id=\"id_5_1\"></a>\n",
    "# [Two types of Data Cleaning:](#id_5_1)\n",
    "- **Manually** Cleaning (inefficient, time consuming and error prone)\n",
    "- **Programmatically** Cleaning (for issues that occur more than one-time )\n",
    "\n",
    "[Back to Cleaning Data](#id_5)"
   ]
  },
  {
   "cell_type": "markdown",
   "metadata": {},
   "source": [
    "<a id=\"id_5_2\"></a>\n",
    "# [Data Cleaning Steps:](#id_5_2)\n",
    "- **Define**, it's using verbs in order to call an action to fix the issue we observed.\n",
    "- **Code**, it's doing the action we specified using programming codes.\n",
    "- **Test**, if our code worked, using visually or programmatically assessments.\n",
    "\n",
    "[Back to Cleaning Data](#id_5)"
   ]
  },
  {
   "cell_type": "markdown",
   "metadata": {},
   "source": [
    "<a id=\"id_5_copy\"></a>\n",
    "## [Data Copying](#id_5_copy)\n",
    "**Note:** Do not forget to copy each table before starting **Cleaning** phase, so, we can easily back to the original table of need.\n",
    "\n",
    "Copying each dataframe using [DataFrame.copy](https://pandas.pydata.org/pandas-docs/stable/reference/api/pandas.DataFrame.copy.html)\n",
    "\n",
    "[Back to Cleaning Data](#id_5)"
   ]
  },
  {
   "cell_type": "code",
   "execution_count": 157,
   "metadata": {},
   "outputs": [
    {
     "data": {
      "text/html": [
       "<div>\n",
       "<style scoped>\n",
       "    .dataframe tbody tr th:only-of-type {\n",
       "        vertical-align: middle;\n",
       "    }\n",
       "\n",
       "    .dataframe tbody tr th {\n",
       "        vertical-align: top;\n",
       "    }\n",
       "\n",
       "    .dataframe thead th {\n",
       "        text-align: right;\n",
       "    }\n",
       "</style>\n",
       "<table border=\"1\" class=\"dataframe\">\n",
       "  <thead>\n",
       "    <tr style=\"text-align: right;\">\n",
       "      <th></th>\n",
       "      <th>Item_Identifier</th>\n",
       "      <th>Item_Weight</th>\n",
       "      <th>Item_Fat_Content</th>\n",
       "      <th>Item_Visibility</th>\n",
       "      <th>Item_Type</th>\n",
       "      <th>Item_MRP</th>\n",
       "      <th>Outlet_Identifier</th>\n",
       "      <th>Outlet_Establishment_Year</th>\n",
       "      <th>Outlet_Size</th>\n",
       "      <th>Outlet_Location_Type</th>\n",
       "      <th>Outlet_Type</th>\n",
       "      <th>Item_Outlet_Sales</th>\n",
       "    </tr>\n",
       "  </thead>\n",
       "  <tbody>\n",
       "    <tr>\n",
       "      <th>0</th>\n",
       "      <td>FDA15</td>\n",
       "      <td>9.30</td>\n",
       "      <td>Low Fat</td>\n",
       "      <td>0.016047</td>\n",
       "      <td>Dairy</td>\n",
       "      <td>249.8092</td>\n",
       "      <td>OUT049</td>\n",
       "      <td>1999</td>\n",
       "      <td>Medium</td>\n",
       "      <td>Tier 1</td>\n",
       "      <td>Supermarket Type1</td>\n",
       "      <td>3735.1380</td>\n",
       "    </tr>\n",
       "    <tr>\n",
       "      <th>1</th>\n",
       "      <td>DRC01</td>\n",
       "      <td>5.92</td>\n",
       "      <td>Regular</td>\n",
       "      <td>0.019278</td>\n",
       "      <td>Soft Drinks</td>\n",
       "      <td>48.2692</td>\n",
       "      <td>OUT018</td>\n",
       "      <td>2009</td>\n",
       "      <td>Medium</td>\n",
       "      <td>Tier 3</td>\n",
       "      <td>Supermarket Type2</td>\n",
       "      <td>443.4228</td>\n",
       "    </tr>\n",
       "    <tr>\n",
       "      <th>2</th>\n",
       "      <td>FDN15</td>\n",
       "      <td>17.50</td>\n",
       "      <td>Low Fat</td>\n",
       "      <td>0.016760</td>\n",
       "      <td>Meat</td>\n",
       "      <td>141.6180</td>\n",
       "      <td>OUT049</td>\n",
       "      <td>1999</td>\n",
       "      <td>Medium</td>\n",
       "      <td>Tier 1</td>\n",
       "      <td>Supermarket Type1</td>\n",
       "      <td>2097.2700</td>\n",
       "    </tr>\n",
       "    <tr>\n",
       "      <th>3</th>\n",
       "      <td>FDX07</td>\n",
       "      <td>19.20</td>\n",
       "      <td>Regular</td>\n",
       "      <td>0.000000</td>\n",
       "      <td>Fruits and Vegetables</td>\n",
       "      <td>182.0950</td>\n",
       "      <td>OUT010</td>\n",
       "      <td>1998</td>\n",
       "      <td>NaN</td>\n",
       "      <td>Tier 3</td>\n",
       "      <td>Grocery Store</td>\n",
       "      <td>732.3800</td>\n",
       "    </tr>\n",
       "    <tr>\n",
       "      <th>4</th>\n",
       "      <td>NCD19</td>\n",
       "      <td>8.93</td>\n",
       "      <td>Low Fat</td>\n",
       "      <td>0.000000</td>\n",
       "      <td>Household</td>\n",
       "      <td>53.8614</td>\n",
       "      <td>OUT013</td>\n",
       "      <td>1987</td>\n",
       "      <td>High</td>\n",
       "      <td>Tier 3</td>\n",
       "      <td>Supermarket Type1</td>\n",
       "      <td>994.7052</td>\n",
       "    </tr>\n",
       "  </tbody>\n",
       "</table>\n",
       "</div>"
      ],
      "text/plain": [
       "  Item_Identifier  Item_Weight Item_Fat_Content  Item_Visibility  \\\n",
       "0           FDA15         9.30          Low Fat         0.016047   \n",
       "1           DRC01         5.92          Regular         0.019278   \n",
       "2           FDN15        17.50          Low Fat         0.016760   \n",
       "3           FDX07        19.20          Regular         0.000000   \n",
       "4           NCD19         8.93          Low Fat         0.000000   \n",
       "\n",
       "               Item_Type  Item_MRP Outlet_Identifier  \\\n",
       "0                  Dairy  249.8092            OUT049   \n",
       "1            Soft Drinks   48.2692            OUT018   \n",
       "2                   Meat  141.6180            OUT049   \n",
       "3  Fruits and Vegetables  182.0950            OUT010   \n",
       "4              Household   53.8614            OUT013   \n",
       "\n",
       "   Outlet_Establishment_Year Outlet_Size Outlet_Location_Type  \\\n",
       "0                       1999      Medium               Tier 1   \n",
       "1                       2009      Medium               Tier 3   \n",
       "2                       1999      Medium               Tier 1   \n",
       "3                       1998         NaN               Tier 3   \n",
       "4                       1987        High               Tier 3   \n",
       "\n",
       "         Outlet_Type  Item_Outlet_Sales  \n",
       "0  Supermarket Type1          3735.1380  \n",
       "1  Supermarket Type2           443.4228  \n",
       "2  Supermarket Type1          2097.2700  \n",
       "3      Grocery Store           732.3800  \n",
       "4  Supermarket Type1           994.7052  "
      ]
     },
     "execution_count": 157,
     "metadata": {},
     "output_type": "execute_result"
    }
   ],
   "source": [
    "df_copy = df.copy()\n",
    "df_copy.head()"
   ]
  },
  {
   "cell_type": "markdown",
   "metadata": {},
   "source": [
    "<a id=\"id_5_3\"></a>\n",
    "# [Data Cleaning Process:](#id_5_3)\n",
    "We have 3 data issues need to be cleaned before continuing Analyzing and Visualizing\n",
    "1. [**Missing Values**](#id_5_3_1)\n",
    "2. [**Cleaning for Quality**](#id_5_3_2)\n",
    "3. [**Cleaning for Tidiness**](#id_5_3_3)\n",
    "\n",
    "[Back to Cleaning Data](#id_5)<br>\n",
    "[Back to Assessment Docummentions](#id_4_3)"
   ]
  },
  {
   "cell_type": "markdown",
   "metadata": {},
   "source": [
    "<a id=\"id_5_3_1\"></a>\n",
    "## [Missing Values](#id_5_3_1)\n",
    "Let's start with missing values in our dataframe.\n",
    "\n",
    "[Define](#id_5_3_1_1) [Code](#id_5_3_1_2) [Test](#id_5_3_1_3)\n",
    "\n",
    "[Back to Data Cleaning Process](#id_5_3)<br>\n",
    "[Back to Assessment Docummentions](#id_4_3)"
   ]
  },
  {
   "cell_type": "markdown",
   "metadata": {},
   "source": [
    "<a id=\"id_5_3_1_1\"></a>\n",
    "#### [Define](#id_5_3_1_1)\n",
    "As we discovered at the end of assessing phase, that the missing values are because the lack of informations from 5 outlet stores (OUT019, OUT027, OUT010, OUT017, OUT045), thus these values cannot be retrieved and no further action needed.\n",
    "\n",
    "[Back](#id_5_3_1)"
   ]
  },
  {
   "cell_type": "markdown",
   "metadata": {},
   "source": [
    "<a id=\"id_5_3_2\"></a>\n",
    "## [Cleaning for Quality](#id_5_3_2)\n",
    "Now it's time to clean the dirty tables!!\n",
    "1. [**Column names are all in uppercase**](#id_5_3_2_1)\n",
    "2. [**Inconsistent values in Item Fat Content variable**](#id_5_3_2_2)\n",
    "3. [**Modifying Outlet Type Values**](#id_5_3_2_3)\n",
    "4. [**Column names with prefixes of Item or Outlet and ID columns**](#id_5_3_2_4)\n",
    "\n",
    "[Back to Data Cleaning Process](#id_5_3)<br>\n",
    "[Back to Assessment Docummentions](#id_4_3)"
   ]
  },
  {
   "cell_type": "markdown",
   "metadata": {},
   "source": [
    "<a id=\"id_5_3_2_1\"></a>\n",
    "### [Column names are all in uppercase](#id_5_3_2_1)\n",
    "[Define](#id_5_3_2_1_1) [Code](#id_5_3_2_1_2) [Test](#id_5_3_2_1_3)\n",
    "\n",
    "[Back to Cleaning for Quality](#id_5_3_2)<br>\n",
    "[Back to Docummentions](#id_4_3_1)"
   ]
  },
  {
   "cell_type": "markdown",
   "metadata": {},
   "source": [
    "<a id=\"id_5_3_2_1_1\"></a>\n",
    "#### [Define](#id_5_3_2_1_1)\n",
    "Change column names from uppercase to lower case using **apply** and **lambda** functions.\n",
    "\n",
    "[Back](#id_5_3_2_1)"
   ]
  },
  {
   "cell_type": "markdown",
   "metadata": {},
   "source": [
    "<a id=\"id_5_3_2_1_2\"></a>\n",
    "#### [Code](#id_5_3_2_1_2)\n",
    "[Back](#id_5_3_2_1)"
   ]
  },
  {
   "cell_type": "code",
   "execution_count": 158,
   "metadata": {},
   "outputs": [],
   "source": [
    "df_copy.columns = pd.Series(df_copy.columns).apply(lambda x: x.lower())"
   ]
  },
  {
   "cell_type": "markdown",
   "metadata": {},
   "source": [
    "<a id=\"id_5_3_2_1_3\"></a>\n",
    "#### [Test](#id_5_3_2_1_3)\n",
    "[Back](#id_5_3_2_1)"
   ]
  },
  {
   "cell_type": "code",
   "execution_count": 159,
   "metadata": {
    "scrolled": true
   },
   "outputs": [
    {
     "data": {
      "text/plain": [
       "Index(['item_identifier', 'item_weight', 'item_fat_content', 'item_visibility',\n",
       "       'item_type', 'item_mrp', 'outlet_identifier',\n",
       "       'outlet_establishment_year', 'outlet_size', 'outlet_location_type',\n",
       "       'outlet_type', 'item_outlet_sales'],\n",
       "      dtype='object')"
      ]
     },
     "execution_count": 159,
     "metadata": {},
     "output_type": "execute_result"
    }
   ],
   "source": [
    "df_copy.columns"
   ]
  },
  {
   "cell_type": "markdown",
   "metadata": {},
   "source": [
    "<a id=\"id_5_3_2_2\"></a>\n",
    "### [Inconsistent values in Item Fat Content variable](#id_5_3_2_2)\n",
    "[Define](#id_5_3_2_2_1) [Code](#id_5_3_2_2_2) [Test](#id_5_3_2_2_3)\n",
    "\n",
    "[Back to Cleaning for Quality](#id_5_3_2)<br>\n",
    "[Back to Docummentions](#id_4_3_1)"
   ]
  },
  {
   "cell_type": "markdown",
   "metadata": {},
   "source": [
    "<a id=\"id_5_3_2_2_1\"></a>\n",
    "#### [Define](#id_5_3_2_2_1)\n",
    "Use **replace** method to replace `LF` and `low fat` with `Low Fat` and `reg` with `Regular`.\n",
    "\n",
    "[Back](#id_5_3_2_2)"
   ]
  },
  {
   "cell_type": "code",
   "execution_count": 160,
   "metadata": {},
   "outputs": [
    {
     "data": {
      "text/plain": [
       "Low Fat    5089\n",
       "Regular    2889\n",
       "LF          316\n",
       "reg         117\n",
       "low fat     112\n",
       "Name: item_fat_content, dtype: int64"
      ]
     },
     "execution_count": 160,
     "metadata": {},
     "output_type": "execute_result"
    }
   ],
   "source": [
    "df_copy.item_fat_content.value_counts()"
   ]
  },
  {
   "cell_type": "markdown",
   "metadata": {},
   "source": [
    "<a id=\"id_5_3_2_2_2\"></a>\n",
    "#### [Code](#id_5_3_2_2_2)\n",
    "[Back](#id_5_3_2_2)"
   ]
  },
  {
   "cell_type": "code",
   "execution_count": 161,
   "metadata": {},
   "outputs": [],
   "source": [
    "df_copy.item_fat_content = df_copy.item_fat_content.replace({'LF'     : 'Low Fat',\n",
    "                                                             'low fat': 'Low Fat',\n",
    "                                                             'reg'    : 'Regular'})"
   ]
  },
  {
   "cell_type": "markdown",
   "metadata": {},
   "source": [
    "<a id=\"id_5_3_2_2_3\"></a>\n",
    "#### [Test](#id_5_3_2_2_3)\n",
    "[Back](#id_5_3_2_2)"
   ]
  },
  {
   "cell_type": "code",
   "execution_count": 162,
   "metadata": {},
   "outputs": [
    {
     "data": {
      "text/plain": [
       "array(['Low Fat', 'Regular'], dtype=object)"
      ]
     },
     "execution_count": 162,
     "metadata": {},
     "output_type": "execute_result"
    }
   ],
   "source": [
    "df_copy.item_fat_content.unique()"
   ]
  },
  {
   "cell_type": "markdown",
   "metadata": {},
   "source": [
    "<a id=\"id_5_3_2_3\"></a>\n",
    "### [Modifying Outlet Type Values](#id_5_3_2_3)\n",
    "[Define](#id_5_3_2_3_1) [Code](#id_5_3_2_3_2) [Test](#id_5_3_2_3_3)\n",
    "\n",
    "[Back to Cleaning for Quality](#id_5_3_2)<br>\n",
    "[Back to Docummentions](#id_4_3_1)"
   ]
  },
  {
   "cell_type": "markdown",
   "metadata": {},
   "source": [
    "<a id=\"id_5_3_2_3_1\"></a>\n",
    "#### [Define](#id_5_3_2_3_1)\n",
    "Use **replace** method to replace `Supermarket Type1 - Supermarket Type3` to `Type1 - Type3` and `Grocery Store` to `Grocery`.\n",
    "\n",
    "[Back](#id_5_3_2_3)"
   ]
  },
  {
   "cell_type": "markdown",
   "metadata": {},
   "source": [
    "<a id=\"id_5_3_2_3_2\"></a>\n",
    "#### [Code](#id_5_3_2_3_2)\n",
    "[Back](#id_5_3_2_3)"
   ]
  },
  {
   "cell_type": "code",
   "execution_count": 163,
   "metadata": {},
   "outputs": [],
   "source": [
    "df_copy.outlet_type = df_copy.outlet_type.replace({'Supermarket Type1': 'Type 1',\n",
    "                                                   'Supermarket Type2': 'Type 2',\n",
    "                                                   'Supermarket Type3': 'Type 3',\n",
    "                                                   'Grocery Store'    : 'Grocery'})"
   ]
  },
  {
   "cell_type": "markdown",
   "metadata": {},
   "source": [
    "<a id=\"id_5_3_2_3_3\"></a>\n",
    "#### [Test](#id_5_3_2_3_3)\n",
    "[Back](#id_5_3_2_3)"
   ]
  },
  {
   "cell_type": "code",
   "execution_count": 164,
   "metadata": {},
   "outputs": [
    {
     "data": {
      "text/plain": [
       "Type 1     5577\n",
       "Grocery    1083\n",
       "Type 3      935\n",
       "Type 2      928\n",
       "Name: outlet_type, dtype: int64"
      ]
     },
     "execution_count": 164,
     "metadata": {},
     "output_type": "execute_result"
    }
   ],
   "source": [
    "df_copy.outlet_type.value_counts()"
   ]
  },
  {
   "cell_type": "markdown",
   "metadata": {},
   "source": [
    "<a id=\"id_5_3_2_4_3\"></a>\n",
    "#### [Test](#id_5_3_2_4_3)\n",
    "[Back](#id_5_3_2_4)"
   ]
  },
  {
   "cell_type": "markdown",
   "metadata": {},
   "source": [
    "<a id=\"id_5_3_2_4\"></a>\n",
    "### [Column names with prefixes of Item or Outlet and ID columns.](id_5_3_2_4)\n",
    "[Define](#id_5_3_2_4_1) [Code](#id_5_3_2_4_2) [Test](#id_5_3_2_4_3)\n",
    "\n",
    "[Back to Cleaning for Quality](#id_5_3_2)<br>\n",
    "[Back to Docummentions](#id_4_3_1)"
   ]
  },
  {
   "cell_type": "markdown",
   "metadata": {},
   "source": [
    "<a id=\"id_5_3_2_4_1\"></a>\n",
    "#### [Define](#id_5_3_2_4_1)\n",
    "Remove `Item` or `Outlet` prefixes from columns names. Then modify ID columns.\n",
    "\n",
    "[Back](#id_5_3_2_4)"
   ]
  },
  {
   "cell_type": "markdown",
   "metadata": {},
   "source": [
    "<a id=\"id_5_3_2_4_2\"></a>\n",
    "#### [Code](#id_5_3_2_4_2)\n",
    "[Back](#id_5_3_2_4)"
   ]
  },
  {
   "cell_type": "code",
   "execution_count": 165,
   "metadata": {
    "scrolled": true
   },
   "outputs": [],
   "source": [
    "# Removing item and outlet prefixes and fixing id columns\n",
    "df_copy.columns = df_copy.columns.map(lambda x: 'id' if x == 'item_identifier'\n",
    "                                                        else(x[5:] if x.split('_')[0] == 'item'\n",
    "                                                             else(x[7:] if x.split('_')[0] == 'outlet' \n",
    "                                                             and x != 'outlet_identifier' and x != 'outlet_type'\n",
    "                                                                  else('outlet_id' if x == 'outlet_identifier'\n",
    "                                                                       else(x if x == 'outlet_type' else(x))))))"
   ]
  },
  {
   "cell_type": "markdown",
   "metadata": {},
   "source": [
    "<a id=\"id_5_3_2_4_3\"></a>\n",
    "#### [Test](#id_5_3_2_4_3)\n",
    "[Back](#id_5_3_2_4)"
   ]
  },
  {
   "cell_type": "code",
   "execution_count": 166,
   "metadata": {},
   "outputs": [
    {
     "data": {
      "text/plain": [
       "Index(['id', 'weight', 'fat_content', 'visibility', 'type', 'mrp', 'outlet_id',\n",
       "       'establishment_year', 'size', 'location_type', 'outlet_type',\n",
       "       'outlet_sales'],\n",
       "      dtype='object')"
      ]
     },
     "execution_count": 166,
     "metadata": {},
     "output_type": "execute_result"
    }
   ],
   "source": [
    "df_copy.columns"
   ]
  },
  {
   "cell_type": "markdown",
   "metadata": {},
   "source": [
    "<a id=\"id_5_3_3\"></a>\n",
    "## [Cleaning for Tidiness](#id_5_3_3)\n",
    "Let's start cleaning the dataset and we going to start with structure issues\"\n",
    "\n",
    "\n",
    "[Back to Data Cleaning Process](#id_5_3)<br>\n",
    "[Back to Assessment Docummentions](#id_4_3)"
   ]
  },
  {
   "cell_type": "markdown",
   "metadata": {},
   "source": [
    "<a id=\"id_5_3_3_1\"></a>\n",
    "### [Define](#id_5_3_3_1)\n",
    "Separate `Items` attributes and `Outlet` attributes into two different datasets.\n",
    "\n",
    "[Back](#id_5_3_3)"
   ]
  },
  {
   "cell_type": "markdown",
   "metadata": {},
   "source": [
    "<a id=\"id_5_3_3_2\"></a>\n",
    "### [Code](#id_5_3_3_2)\n",
    "\n",
    "[Back](#id_5_3_3)"
   ]
  },
  {
   "cell_type": "code",
   "execution_count": 167,
   "metadata": {},
   "outputs": [
    {
     "name": "stderr",
     "output_type": "stream",
     "text": [
      "C:\\Users\\amira\\anaconda3\\lib\\site-packages\\ipykernel_launcher.py:6: SettingWithCopyWarning: \n",
      "A value is trying to be set on a copy of a slice from a DataFrame.\n",
      "Try using .loc[row_indexer,col_indexer] = value instead\n",
      "\n",
      "See the caveats in the documentation: https://pandas.pydata.org/pandas-docs/stable/user_guide/indexing.html#returning-a-view-versus-a-copy\n",
      "  \n"
     ]
    }
   ],
   "source": [
    "outlet_att = ['outlet_id', 'establishment_year', 'size', 'location_type', 'outlet_type']\n",
    "item_att = df_copy.columns.difference(outlet_att).values\n",
    "\n",
    "outlets = df_copy[outlet_att]\n",
    "items = df_copy[item_att]\n",
    "items['outlet_id']=outlets['outlet_id']"
   ]
  },
  {
   "cell_type": "code",
   "execution_count": 168,
   "metadata": {},
   "outputs": [
    {
     "name": "stderr",
     "output_type": "stream",
     "text": [
      "C:\\Users\\amira\\anaconda3\\lib\\site-packages\\ipykernel_launcher.py:2: SettingWithCopyWarning: \n",
      "A value is trying to be set on a copy of a slice from a DataFrame\n",
      "\n",
      "See the caveats in the documentation: https://pandas.pydata.org/pandas-docs/stable/user_guide/indexing.html#returning-a-view-versus-a-copy\n",
      "  \n"
     ]
    }
   ],
   "source": [
    "#Clean redundant data in outlets\n",
    "outlets.drop_duplicates(inplace=True)"
   ]
  },
  {
   "cell_type": "markdown",
   "metadata": {},
   "source": [
    "<a id=\"id_5_3_3_3\"></a>\n",
    "### [Test](#id_5_3_3_3)\n",
    "[Back](#id_5_3_3)"
   ]
  },
  {
   "cell_type": "code",
   "execution_count": 169,
   "metadata": {},
   "outputs": [],
   "source": [
    "#assert set(items).intersection(outlets.columns) == set()\n",
    "#assert set(outlets).intersection(items.columns) == set()"
   ]
  },
  {
   "cell_type": "markdown",
   "metadata": {},
   "source": [
    "<a id=\"id_5_4\"></a>\n",
    "> ### [So Far, So Good](#id_5_4)\n",
    "Now, we have complete wrangling the data set it's time to [Store it](#id_4). Let's cehck [Our Goal](#id_1_4).\n",
    ">- [X] Gathering\n",
    ">- [X] Assessing\n",
    ">- [X] Cleaning\n",
    ">- [ ] Storing\n",
    ">- [ ] Analyzing\n",
    ">- [ ] Visualizing\n",
    ">- [ ] Reporting\n",
    "\n",
    "\n",
    "[Back to Data Wrangling Process](#id_3)"
   ]
  },
  {
   "cell_type": "markdown",
   "metadata": {},
   "source": [
    "<a id=\"id_6\"></a>\n",
    "<h1 style=\"font-size:30px; color:#3A71AE\">Data Storing</h1>\n",
    "\n",
    "Our data are `complete` and `clean` for now, so, let's store it in a CSV files.\n",
    "\n",
    "[Back to Top](#top)"
   ]
  },
  {
   "cell_type": "code",
   "execution_count": 170,
   "metadata": {},
   "outputs": [],
   "source": [
    "items.to_csv('items_clean.csv', index=False)\n",
    "outlets.to_csv('outlets_clean.csv', index=False)"
   ]
  },
  {
   "cell_type": "markdown",
   "metadata": {},
   "source": [
    "<a id=\"id_4_1\"></a>\n",
    "> ### [So Far, So Good](#id_3_3_4)\n",
    "Our data now are stored in two tables `items_clean` and `outlets_clean`.\n",
    ">- [X] Gathering\n",
    ">- [X] Assessing\n",
    ">- [X] Cleaning\n",
    ">- [x] Storing\n",
    ">- [ ] Analyzing\n",
    ">- [ ] Visualizing\n",
    ">- [ ] Reporting\n",
    "\n",
    "\n",
    "[Back to Data Storing](#id_4)"
   ]
  },
  {
   "cell_type": "markdown",
   "metadata": {},
   "source": [
    "<a id=\"id_7\"></a>\n",
    "<h1 style=\"font-size:30px; color:#3A71AE\">Analyzing and Visualizing</h1>\n",
    "\n",
    "Finally, we are ready to `use` our data to explore it and find some insights.\n",
    "\n",
    "According to the 5 steps of Data Analysis:\n",
    "1. [**Questions**](#id_7_1)\n",
    "2. [**Wrangle**](#id_7_2)\n",
    "3. [**Explore**](#id_7_3)\n",
    "4. <a id=\"id_7_4\"></a>[**Draw Conclusions**](#id_7_4) ([Q1](#id_7_1_1_2) - [Q2](#id_7_1_2_2) - [Q3](#id_7_1_3_2) - [Q4](#id_7_1_4_2))\n",
    "5. <a id=\"id_7_5\"></a>[**Communicate**](#id_7_5) ([Q1](#id_7_1_1_3) - [Q2](#id_7_1_2_3) - [Q3](#id_7_1_3_3) - [Q4](#id_7_1_4_3))\n",
    "    \n",
    "[Back to Top](#top)"
   ]
  },
  {
   "cell_type": "markdown",
   "metadata": {},
   "source": [
    "<a id=\"id_7_1\"></a>\n",
    "# [Questions](#id_7_1)\n",
    "There are 3 questions in my mind I would love to find answer for them:\n",
    "1. [**How many units sold for each fat content type?**](#id_7_1_1)\n",
    "2. [**What are the differences of outlet types**](#id_7_1_2)\n",
    "3. [**do all cities contain same sizes and types of stores**](#id_7_1_3)\n",
    "4. [**Does location type affect outlet sales ?**](#id_7_1_4)\n",
    "\n",
    "[Back to Analyzing and Visualizing](#id_7)"
   ]
  },
  {
   "cell_type": "markdown",
   "metadata": {},
   "source": [
    "<a id=\"id_7_2\"></a>\n",
    "# [Wrangle](#id_7_2)\n",
    "So let's gather our data first from `items_clean` and `outlets_clean` CSV files (We have already done assessing and cleaning steps in the previous sections).\n",
    "\n",
    "[Back to Analyzing and Visualizing](#id_7)"
   ]
  },
  {
   "cell_type": "code",
   "execution_count": 171,
   "metadata": {},
   "outputs": [],
   "source": [
    "items = pd.read_csv('items_clean.csv')\n",
    "outlets = pd.read_csv('outlets_clean.csv')"
   ]
  },
  {
   "cell_type": "markdown",
   "metadata": {},
   "source": [
    "> **Now I will do the remaining steps together for each question.**"
   ]
  },
  {
   "cell_type": "markdown",
   "metadata": {},
   "source": [
    "<a id=\"id_7_1_1\"></a>\n",
    "## [How many units sold for each fat content type?](#id_7_1_1)\n",
    "Let's find out which items sell the best, items with low or regular fat content, according to the number of units sold (`sales / mrp`).\n",
    "\n",
    "[Explore](#id_7_1_1_1) - [Conclusions](#id_7_1_1_2) - [Communicate](#id_7_1_1_3)\n",
    "\n",
    "[Back to Questions](#id_7_1)"
   ]
  },
  {
   "cell_type": "markdown",
   "metadata": {},
   "source": [
    "<a id=\"id_7_1_1_1\"></a>\n",
    "### [Explore](#id_7_1_1_1)"
   ]
  },
  {
   "cell_type": "code",
   "execution_count": 172,
   "metadata": {},
   "outputs": [
    {
     "data": {
      "text/plain": [
       "fat_content\n",
       "Low Fat    84574\n",
       "Regular    46898\n",
       "Name: units, dtype: int32"
      ]
     },
     "execution_count": 172,
     "metadata": {},
     "output_type": "execute_result"
    }
   ],
   "source": [
    "# computing units\n",
    "items['units'] = items['outlet_sales'] / items['mrp']\n",
    "fat_group = items.groupby('fat_content').sum()['units'].astype(int)\n",
    "fat_group"
   ]
  },
  {
   "cell_type": "markdown",
   "metadata": {},
   "source": [
    "<a id=\"id_7_1_1_2\"></a>\n",
    "### [Conclusions](#id_7_1_1_2)\n",
    "\n",
    "The number of sales for items with **low fat content** are `84,574` units, while the number of sales for items with **regular fat content** are `46,898` units.\n",
    "\n",
    "Apparently, **Big Mart** customers prefer low fat items!!"
   ]
  },
  {
   "cell_type": "markdown",
   "metadata": {},
   "source": [
    "<a id=\"id_7_1_1_3\"></a>\n",
    "### [Communicate](#id_7_1_1_3)\n",
    "\n",
    "[Back](#id_7_1_1)"
   ]
  },
  {
   "cell_type": "code",
   "execution_count": 173,
   "metadata": {},
   "outputs": [
    {
     "name": "stdout",
     "output_type": "stream",
     "text": [
      "Number of units sold for each fat content type:\n",
      "Low Fats = 84,574 units\n",
      "Regular Fats = 46,898 units\n"
     ]
    }
   ],
   "source": [
    "print('Number of units sold for each fat content type:')\n",
    "print('Low Fats =', '{:,} units'.format(fat_group['Low Fat']))\n",
    "print('Regular Fats =', '{:,} units'.format(fat_group['Regular']))"
   ]
  },
  {
   "cell_type": "markdown",
   "metadata": {},
   "source": [
    "<a id=\"id_7_1_2\"></a>\n",
    "## [What are the difference between different outlet types?](#id_7_1_2)\n",
    "Let's find that out using the size of the outlet.\n",
    "\n",
    "[Explore](#id_7_1_2_1) - [Conclusions](#id_7_1_2_2) - [Communicate](#id_7_1_2_3)\n",
    "\n",
    "[Back to Questions](#id_7_1)"
   ]
  },
  {
   "cell_type": "markdown",
   "metadata": {},
   "source": [
    "<a id=\"id_7_1_2_1\"></a>\n",
    "### [Explore](#id_7_1_2_1)"
   ]
  },
  {
   "cell_type": "code",
   "execution_count": 174,
   "metadata": {},
   "outputs": [
    {
     "data": {
      "image/png": "[encoded data removed]",
      "text/plain": [
       "<Figure size 1000x400 with 1 Axes>"
      ]
     },
     "metadata": {},
     "output_type": "display_data"
    }
   ],
   "source": [
    "# create count plot\n",
    "sb.countplot(data=outlets,\n",
    "             x='outlet_type',\n",
    "             hue='size',\n",
    "             order = ['Type 1', 'Type 2', 'Type 3', 'Grocery'],\n",
    "             hue_order = ['High', 'Medium', 'Small'])\n",
    "\n",
    "# add labels and titles\n",
    "plt.title('Different Outlet Types According to Outlet sizes', fontsize = 20, y = 1.02)\n",
    "plt.xlabel('Outlet Type', fontsize = 15, labelpad = 10)\n",
    "plt.ylabel('')\n",
    "\n",
    "# add legend title\n",
    "plt.legend(title='Outlet Size', loc = 1);"
   ]
  },
  {
   "cell_type": "markdown",
   "metadata": {},
   "source": [
    "<a id=\"id_7_1_2_2\"></a>\n",
    "### [Conclusions](#id_7_1_2_2)\n",
    "From the plot we can see that only outlets with **Type 1** have all the `three sizes`, while outlets with **Type 2** and **Type 3** have only `medium` size outlets, finally, **Grocery** stores have only `small` outlets.\n",
    "\n",
    "[Back](#id_7_1_2)"
   ]
  },
  {
   "cell_type": "markdown",
   "metadata": {},
   "source": [
    "<a id=\"id_7_1_2_3\"></a>\n",
    "### [Communicate](#id_7_1_2_3)\n",
    "\n",
    "[Back](#id_7_1_2)"
   ]
  },
  {
   "cell_type": "code",
   "execution_count": 175,
   "metadata": {},
   "outputs": [
    {
     "name": "stdout",
     "output_type": "stream",
     "text": [
      "Outlet Types for each Outlet Size:\n",
      "Type 1: High, Medium and Small sizes\n",
      "Type 2: Medium sizes\n",
      "Type 3: Medium sizes\n",
      "Grocery: Small sizes\n"
     ]
    }
   ],
   "source": [
    "print('Outlet Types for each Outlet Size:')\n",
    "print('Type 1: High, Medium and Small sizes')\n",
    "print('Type 2: Medium sizes')\n",
    "print('Type 3: Medium sizes')\n",
    "print('Grocery: Small sizes')"
   ]
  },
  {
   "cell_type": "markdown",
   "metadata": {},
   "source": [
    "<a id=\"id_7_1_3\"></a>\n",
    "## [Question 3?] do all cities contain same sizes of stores?(#id_7_1_3)\n",
    "[Explore](#id_7_1_3_1) - [Conclusions](#id_7_1_3_2) - [Communicate](#id_7_1_3_3)\n",
    "\n",
    "[Back to Questions](#id_7_1)"
   ]
  },
  {
   "cell_type": "markdown",
   "metadata": {},
   "source": [
    "<a id=\"id_7_1_3_1\"></a>\n",
    "### [Explore](#id_7_1_3_1)"
   ]
  },
  {
   "cell_type": "code",
   "execution_count": 176,
   "metadata": {},
   "outputs": [],
   "source": [
    "df_outlet=pd.read_csv('outlets_clean.csv')"
   ]
  },
  {
   "cell_type": "code",
   "execution_count": 177,
   "metadata": {},
   "outputs": [
    {
     "data": {
      "text/html": [
       "<div>\n",
       "<style scoped>\n",
       "    .dataframe tbody tr th:only-of-type {\n",
       "        vertical-align: middle;\n",
       "    }\n",
       "\n",
       "    .dataframe tbody tr th {\n",
       "        vertical-align: top;\n",
       "    }\n",
       "\n",
       "    .dataframe thead th {\n",
       "        text-align: right;\n",
       "    }\n",
       "</style>\n",
       "<table border=\"1\" class=\"dataframe\">\n",
       "  <thead>\n",
       "    <tr style=\"text-align: right;\">\n",
       "      <th></th>\n",
       "      <th>outlet_id</th>\n",
       "      <th>establishment_year</th>\n",
       "      <th>size</th>\n",
       "      <th>location_type</th>\n",
       "      <th>outlet_type</th>\n",
       "    </tr>\n",
       "  </thead>\n",
       "  <tbody>\n",
       "    <tr>\n",
       "      <th>0</th>\n",
       "      <td>OUT049</td>\n",
       "      <td>1999</td>\n",
       "      <td>Medium</td>\n",
       "      <td>Tier 1</td>\n",
       "      <td>Type 1</td>\n",
       "    </tr>\n",
       "    <tr>\n",
       "      <th>1</th>\n",
       "      <td>OUT018</td>\n",
       "      <td>2009</td>\n",
       "      <td>Medium</td>\n",
       "      <td>Tier 3</td>\n",
       "      <td>Type 2</td>\n",
       "    </tr>\n",
       "    <tr>\n",
       "      <th>2</th>\n",
       "      <td>OUT010</td>\n",
       "      <td>1998</td>\n",
       "      <td>NaN</td>\n",
       "      <td>Tier 3</td>\n",
       "      <td>Grocery</td>\n",
       "    </tr>\n",
       "    <tr>\n",
       "      <th>3</th>\n",
       "      <td>OUT013</td>\n",
       "      <td>1987</td>\n",
       "      <td>High</td>\n",
       "      <td>Tier 3</td>\n",
       "      <td>Type 1</td>\n",
       "    </tr>\n",
       "    <tr>\n",
       "      <th>4</th>\n",
       "      <td>OUT027</td>\n",
       "      <td>1985</td>\n",
       "      <td>Medium</td>\n",
       "      <td>Tier 3</td>\n",
       "      <td>Type 3</td>\n",
       "    </tr>\n",
       "    <tr>\n",
       "      <th>5</th>\n",
       "      <td>OUT045</td>\n",
       "      <td>2002</td>\n",
       "      <td>NaN</td>\n",
       "      <td>Tier 2</td>\n",
       "      <td>Type 1</td>\n",
       "    </tr>\n",
       "    <tr>\n",
       "      <th>6</th>\n",
       "      <td>OUT017</td>\n",
       "      <td>2007</td>\n",
       "      <td>NaN</td>\n",
       "      <td>Tier 2</td>\n",
       "      <td>Type 1</td>\n",
       "    </tr>\n",
       "    <tr>\n",
       "      <th>7</th>\n",
       "      <td>OUT046</td>\n",
       "      <td>1997</td>\n",
       "      <td>Small</td>\n",
       "      <td>Tier 1</td>\n",
       "      <td>Type 1</td>\n",
       "    </tr>\n",
       "    <tr>\n",
       "      <th>8</th>\n",
       "      <td>OUT035</td>\n",
       "      <td>2004</td>\n",
       "      <td>Small</td>\n",
       "      <td>Tier 2</td>\n",
       "      <td>Type 1</td>\n",
       "    </tr>\n",
       "    <tr>\n",
       "      <th>9</th>\n",
       "      <td>OUT019</td>\n",
       "      <td>1985</td>\n",
       "      <td>Small</td>\n",
       "      <td>Tier 1</td>\n",
       "      <td>Grocery</td>\n",
       "    </tr>\n",
       "  </tbody>\n",
       "</table>\n",
       "</div>"
      ],
      "text/plain": [
       "  outlet_id  establishment_year    size location_type outlet_type\n",
       "0    OUT049                1999  Medium        Tier 1      Type 1\n",
       "1    OUT018                2009  Medium        Tier 3      Type 2\n",
       "2    OUT010                1998     NaN        Tier 3     Grocery\n",
       "3    OUT013                1987    High        Tier 3      Type 1\n",
       "4    OUT027                1985  Medium        Tier 3      Type 3\n",
       "5    OUT045                2002     NaN        Tier 2      Type 1\n",
       "6    OUT017                2007     NaN        Tier 2      Type 1\n",
       "7    OUT046                1997   Small        Tier 1      Type 1\n",
       "8    OUT035                2004   Small        Tier 2      Type 1\n",
       "9    OUT019                1985   Small        Tier 1     Grocery"
      ]
     },
     "execution_count": 177,
     "metadata": {},
     "output_type": "execute_result"
    }
   ],
   "source": [
    "df_outlet"
   ]
  },
  {
   "cell_type": "code",
   "execution_count": 178,
   "metadata": {},
   "outputs": [
    {
     "data": {
      "text/plain": [
       "location_type  size  \n",
       "Tier 1         Small     2\n",
       "               Medium    1\n",
       "Tier 2         Small     1\n",
       "Tier 3         Medium    2\n",
       "               High      1\n",
       "Name: size, dtype: int64"
      ]
     },
     "execution_count": 178,
     "metadata": {},
     "output_type": "execute_result"
    }
   ],
   "source": [
    "df_outlet.groupby('location_type')['size'].value_counts()"
   ]
  },
  {
   "cell_type": "code",
   "execution_count": 179,
   "metadata": {},
   "outputs": [
    {
     "data": {
      "text/plain": [
       "location_type  outlet_type\n",
       "Tier 1         Type 1         2\n",
       "               Grocery        1\n",
       "Tier 2         Type 1         3\n",
       "Tier 3         Grocery        1\n",
       "               Type 1         1\n",
       "               Type 2         1\n",
       "               Type 3         1\n",
       "Name: outlet_type, dtype: int64"
      ]
     },
     "execution_count": 179,
     "metadata": {},
     "output_type": "execute_result"
    }
   ],
   "source": [
    "df_outlet.groupby('location_type')['outlet_type'].value_counts()\n"
   ]
  },
  {
   "cell_type": "code",
   "execution_count": null,
   "metadata": {},
   "outputs": [],
   "source": [
    "\n"
   ]
  },
  {
   "cell_type": "markdown",
   "metadata": {},
   "source": [
    "<a id=\"id_7_1_3_2\"></a>\n",
    "### [Conclusions](#id_7_1_3_2)\n",
    "\n",
    "from the results above we can view that locations don't have same sizes or types of stores. for example Tier1 contain only Type1 and grocery stores ,tier 2 location has only type1 "
   ]
  },
  {
   "cell_type": "markdown",
   "metadata": {},
   "source": [
    "<a id=\"id_7_1_3_3\"></a>\n",
    "### [Communicate](#id_7_1_3_3)\n",
    "\n",
    "\n",
    "[Back](#id_7_1_3)"
   ]
  },
  {
   "cell_type": "code",
   "execution_count": 181,
   "metadata": {},
   "outputs": [
    {
     "data": {
      "image/png": "[encoded data removed]",
      "text/plain": [
       "<Figure size 1000x400 with 1 Axes>"
      ]
     },
     "metadata": {},
     "output_type": "display_data"
    }
   ],
   "source": [
    "df_outlet.groupby('location_type')['outlet_type'].value_counts().plot.bar();"
   ]
  },
  {
   "cell_type": "markdown",
   "metadata": {},
   "source": [
    "<a id=\"id_7_1_4\"></a>\n",
    "## [Does location type affect outlet sales ?](#id_7_1_4)\n",
    "[Explore](#id_7_1_4_1) - [Conclusions](#id_7_1_4_2) - [Communicate](#id_7_1_4_3)\n",
    "\n",
    "[Back to Questions](#id_7_1)"
   ]
  },
  {
   "cell_type": "markdown",
   "metadata": {},
   "source": [
    "<a id=\"id_7_1_4_1\"></a>\n",
    "### [Explore](#id_7_1_4_1)"
   ]
  },
  {
   "cell_type": "code",
   "execution_count": 182,
   "metadata": {},
   "outputs": [
    {
     "data": {
      "text/html": [
       "<div>\n",
       "<style scoped>\n",
       "    .dataframe tbody tr th:only-of-type {\n",
       "        vertical-align: middle;\n",
       "    }\n",
       "\n",
       "    .dataframe tbody tr th {\n",
       "        vertical-align: top;\n",
       "    }\n",
       "\n",
       "    .dataframe thead th {\n",
       "        text-align: right;\n",
       "    }\n",
       "</style>\n",
       "<table border=\"1\" class=\"dataframe\">\n",
       "  <thead>\n",
       "    <tr style=\"text-align: right;\">\n",
       "      <th></th>\n",
       "      <th>id</th>\n",
       "      <th>weight</th>\n",
       "      <th>fat_content</th>\n",
       "      <th>visibility</th>\n",
       "      <th>type</th>\n",
       "      <th>mrp</th>\n",
       "      <th>outlet_id</th>\n",
       "      <th>establishment_year</th>\n",
       "      <th>size</th>\n",
       "      <th>location_type</th>\n",
       "      <th>outlet_type</th>\n",
       "      <th>outlet_sales</th>\n",
       "    </tr>\n",
       "  </thead>\n",
       "  <tbody>\n",
       "    <tr>\n",
       "      <th>0</th>\n",
       "      <td>FDA15</td>\n",
       "      <td>9.300</td>\n",
       "      <td>Low Fat</td>\n",
       "      <td>0.016047</td>\n",
       "      <td>Dairy</td>\n",
       "      <td>249.8092</td>\n",
       "      <td>OUT049</td>\n",
       "      <td>1999</td>\n",
       "      <td>Medium</td>\n",
       "      <td>Tier 1</td>\n",
       "      <td>Type 1</td>\n",
       "      <td>3735.1380</td>\n",
       "    </tr>\n",
       "    <tr>\n",
       "      <th>1</th>\n",
       "      <td>DRC01</td>\n",
       "      <td>5.920</td>\n",
       "      <td>Regular</td>\n",
       "      <td>0.019278</td>\n",
       "      <td>Soft Drinks</td>\n",
       "      <td>48.2692</td>\n",
       "      <td>OUT018</td>\n",
       "      <td>2009</td>\n",
       "      <td>Medium</td>\n",
       "      <td>Tier 3</td>\n",
       "      <td>Type 2</td>\n",
       "      <td>443.4228</td>\n",
       "    </tr>\n",
       "    <tr>\n",
       "      <th>2</th>\n",
       "      <td>FDN15</td>\n",
       "      <td>17.500</td>\n",
       "      <td>Low Fat</td>\n",
       "      <td>0.016760</td>\n",
       "      <td>Meat</td>\n",
       "      <td>141.6180</td>\n",
       "      <td>OUT049</td>\n",
       "      <td>1999</td>\n",
       "      <td>Medium</td>\n",
       "      <td>Tier 1</td>\n",
       "      <td>Type 1</td>\n",
       "      <td>2097.2700</td>\n",
       "    </tr>\n",
       "    <tr>\n",
       "      <th>3</th>\n",
       "      <td>FDX07</td>\n",
       "      <td>19.200</td>\n",
       "      <td>Regular</td>\n",
       "      <td>0.000000</td>\n",
       "      <td>Fruits and Vegetables</td>\n",
       "      <td>182.0950</td>\n",
       "      <td>OUT010</td>\n",
       "      <td>1998</td>\n",
       "      <td>NaN</td>\n",
       "      <td>Tier 3</td>\n",
       "      <td>Grocery</td>\n",
       "      <td>732.3800</td>\n",
       "    </tr>\n",
       "    <tr>\n",
       "      <th>4</th>\n",
       "      <td>NCD19</td>\n",
       "      <td>8.930</td>\n",
       "      <td>Low Fat</td>\n",
       "      <td>0.000000</td>\n",
       "      <td>Household</td>\n",
       "      <td>53.8614</td>\n",
       "      <td>OUT013</td>\n",
       "      <td>1987</td>\n",
       "      <td>High</td>\n",
       "      <td>Tier 3</td>\n",
       "      <td>Type 1</td>\n",
       "      <td>994.7052</td>\n",
       "    </tr>\n",
       "    <tr>\n",
       "      <th>...</th>\n",
       "      <td>...</td>\n",
       "      <td>...</td>\n",
       "      <td>...</td>\n",
       "      <td>...</td>\n",
       "      <td>...</td>\n",
       "      <td>...</td>\n",
       "      <td>...</td>\n",
       "      <td>...</td>\n",
       "      <td>...</td>\n",
       "      <td>...</td>\n",
       "      <td>...</td>\n",
       "      <td>...</td>\n",
       "    </tr>\n",
       "    <tr>\n",
       "      <th>8518</th>\n",
       "      <td>FDF22</td>\n",
       "      <td>6.865</td>\n",
       "      <td>Low Fat</td>\n",
       "      <td>0.056783</td>\n",
       "      <td>Snack Foods</td>\n",
       "      <td>214.5218</td>\n",
       "      <td>OUT013</td>\n",
       "      <td>1987</td>\n",
       "      <td>High</td>\n",
       "      <td>Tier 3</td>\n",
       "      <td>Type 1</td>\n",
       "      <td>2778.3834</td>\n",
       "    </tr>\n",
       "    <tr>\n",
       "      <th>8519</th>\n",
       "      <td>FDS36</td>\n",
       "      <td>8.380</td>\n",
       "      <td>Regular</td>\n",
       "      <td>0.046982</td>\n",
       "      <td>Baking Goods</td>\n",
       "      <td>108.1570</td>\n",
       "      <td>OUT045</td>\n",
       "      <td>2002</td>\n",
       "      <td>NaN</td>\n",
       "      <td>Tier 2</td>\n",
       "      <td>Type 1</td>\n",
       "      <td>549.2850</td>\n",
       "    </tr>\n",
       "    <tr>\n",
       "      <th>8520</th>\n",
       "      <td>NCJ29</td>\n",
       "      <td>10.600</td>\n",
       "      <td>Low Fat</td>\n",
       "      <td>0.035186</td>\n",
       "      <td>Health and Hygiene</td>\n",
       "      <td>85.1224</td>\n",
       "      <td>OUT035</td>\n",
       "      <td>2004</td>\n",
       "      <td>Small</td>\n",
       "      <td>Tier 2</td>\n",
       "      <td>Type 1</td>\n",
       "      <td>1193.1136</td>\n",
       "    </tr>\n",
       "    <tr>\n",
       "      <th>8521</th>\n",
       "      <td>FDN46</td>\n",
       "      <td>7.210</td>\n",
       "      <td>Regular</td>\n",
       "      <td>0.145221</td>\n",
       "      <td>Snack Foods</td>\n",
       "      <td>103.1332</td>\n",
       "      <td>OUT018</td>\n",
       "      <td>2009</td>\n",
       "      <td>Medium</td>\n",
       "      <td>Tier 3</td>\n",
       "      <td>Type 2</td>\n",
       "      <td>1845.5976</td>\n",
       "    </tr>\n",
       "    <tr>\n",
       "      <th>8522</th>\n",
       "      <td>DRG01</td>\n",
       "      <td>14.800</td>\n",
       "      <td>Low Fat</td>\n",
       "      <td>0.044878</td>\n",
       "      <td>Soft Drinks</td>\n",
       "      <td>75.4670</td>\n",
       "      <td>OUT046</td>\n",
       "      <td>1997</td>\n",
       "      <td>Small</td>\n",
       "      <td>Tier 1</td>\n",
       "      <td>Type 1</td>\n",
       "      <td>765.6700</td>\n",
       "    </tr>\n",
       "  </tbody>\n",
       "</table>\n",
       "<p>8523 rows × 12 columns</p>\n",
       "</div>"
      ],
      "text/plain": [
       "         id  weight fat_content  visibility                   type       mrp  \\\n",
       "0     FDA15   9.300     Low Fat    0.016047                  Dairy  249.8092   \n",
       "1     DRC01   5.920     Regular    0.019278            Soft Drinks   48.2692   \n",
       "2     FDN15  17.500     Low Fat    0.016760                   Meat  141.6180   \n",
       "3     FDX07  19.200     Regular    0.000000  Fruits and Vegetables  182.0950   \n",
       "4     NCD19   8.930     Low Fat    0.000000              Household   53.8614   \n",
       "...     ...     ...         ...         ...                    ...       ...   \n",
       "8518  FDF22   6.865     Low Fat    0.056783            Snack Foods  214.5218   \n",
       "8519  FDS36   8.380     Regular    0.046982           Baking Goods  108.1570   \n",
       "8520  NCJ29  10.600     Low Fat    0.035186     Health and Hygiene   85.1224   \n",
       "8521  FDN46   7.210     Regular    0.145221            Snack Foods  103.1332   \n",
       "8522  DRG01  14.800     Low Fat    0.044878            Soft Drinks   75.4670   \n",
       "\n",
       "     outlet_id  establishment_year    size location_type outlet_type  \\\n",
       "0       OUT049                1999  Medium        Tier 1      Type 1   \n",
       "1       OUT018                2009  Medium        Tier 3      Type 2   \n",
       "2       OUT049                1999  Medium        Tier 1      Type 1   \n",
       "3       OUT010                1998     NaN        Tier 3     Grocery   \n",
       "4       OUT013                1987    High        Tier 3      Type 1   \n",
       "...        ...                 ...     ...           ...         ...   \n",
       "8518    OUT013                1987    High        Tier 3      Type 1   \n",
       "8519    OUT045                2002     NaN        Tier 2      Type 1   \n",
       "8520    OUT035                2004   Small        Tier 2      Type 1   \n",
       "8521    OUT018                2009  Medium        Tier 3      Type 2   \n",
       "8522    OUT046                1997   Small        Tier 1      Type 1   \n",
       "\n",
       "      outlet_sales  \n",
       "0        3735.1380  \n",
       "1         443.4228  \n",
       "2        2097.2700  \n",
       "3         732.3800  \n",
       "4         994.7052  \n",
       "...            ...  \n",
       "8518     2778.3834  \n",
       "8519      549.2850  \n",
       "8520     1193.1136  \n",
       "8521     1845.5976  \n",
       "8522      765.6700  \n",
       "\n",
       "[8523 rows x 12 columns]"
      ]
     },
     "execution_count": 182,
     "metadata": {},
     "output_type": "execute_result"
    }
   ],
   "source": [
    "#work on merged data set to get every outlet sales based on location \n",
    "df_copy"
   ]
  },
  {
   "cell_type": "code",
   "execution_count": 186,
   "metadata": {},
   "outputs": [
    {
     "data": {
      "text/plain": [
       "location_type  outlet_id  size  \n",
       "Tier 1         OUT019     Small     1.796941e+05\n",
       "               OUT046     Small     2.118395e+06\n",
       "               OUT049     Medium    2.183970e+06\n",
       "Tier 2         OUT035     Small     2.268123e+06\n",
       "Tier 3         OUT013     High      2.142664e+06\n",
       "               OUT018     Medium    1.851823e+06\n",
       "               OUT027     Medium    3.453926e+06\n",
       "Name: outlet_sales, dtype: float64"
      ]
     },
     "execution_count": 186,
     "metadata": {},
     "output_type": "execute_result"
    }
   ],
   "source": [
    "df_copy.groupby(['location_type','outlet_id','size'])['outlet_sales'].sum()"
   ]
  },
  {
   "cell_type": "markdown",
   "metadata": {},
   "source": [
    "<a id=\"id_7_1_4_2\"></a>\n",
    "### [Conclusions](#id_7_1_4_2)\n",
    "\n",
    "from the results above sales are not affected by size of store but with count of stores in each location and location type(Tier3) gets the highest in sales "
   ]
  },
  {
   "cell_type": "markdown",
   "metadata": {},
   "source": [
    "<a id=\"id_7_1_4_3\"></a>\n",
    "### [Communicate](#id_7_1_4_3)\n",
    "\n",
    "[Back](#id_7_1_4)"
   ]
  },
  {
   "cell_type": "markdown",
   "metadata": {},
   "source": [
    "<a id=\"id_3_3_4\"></a>\n",
    "> ### [So Far, So Good](#id_3_3_4)\n",
    "After done analyzing and visualizing, we only need to report our effort to finish this project.\n",
    ">- [X] Gathering\n",
    ">- [X] Assessing\n",
    ">- [X] Cleaning\n",
    ">- [x] Storing\n",
    ">- [x] Analyzing\n",
    ">- [x] Visualizing\n",
    ">- [ ] Reporting\n",
    "\n",
    "\n",
    "[Back to Analyzing and Visualizing](#id_7)"
   ]
  },
  {
   "cell_type": "markdown",
   "metadata": {},
   "source": [
    "<a id=\"id_8\"></a>\n",
    "<h1 style=\"font-size:30px; color:#3A71AE\">Reporting</h1>\n",
    "\n",
    "Finally, we can report our [conclusions](#id_7_4) communicate the insights we have fouund.\n",
    "\n",
    "[Back to Top](#top)"
   ]
  },
  {
   "cell_type": "markdown",
   "metadata": {},
   "source": [
    "<a id=\"id_6_1\"></a>\n",
    "> ### [Congratulation](#id_6_1)\n",
    "And congratulation, we have done all the following:\n",
    ">- [X] Gathering\n",
    ">- [X] Assessing\n",
    ">- [X] Cleaning\n",
    ">- [X] Storing\n",
    ">- [X] Analyzing\n",
    ">- [X] Visualizing\n",
    ">- [X] Reporting\n",
    "\n",
    "[Back to Reporting](#id_6)\n",
    "\n",
    "<img src=\"cong.gif\" width=\"800\" height=\"600\">"
   ]
  }
 ],
 "metadata": {
  "kernelspec": {
   "display_name": "Python 3",
   "language": "python",
   "name": "python3"
  },
  "language_info": {
   "codemirror_mode": {
    "name": "ipython",
    "version": 3
   },
   "file_extension": ".py",
   "mimetype": "text/x-python",
   "name": "python",
   "nbconvert_exporter": "python",
   "pygments_lexer": "ipython3",
   "version": "3.7.6"
  }
 },
 "nbformat": 4,
 "nbformat_minor": 4
}
